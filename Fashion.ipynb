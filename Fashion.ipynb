{
 "cells": [
  {
   "cell_type": "code",
   "execution_count": 1,
   "metadata": {
    "colab": {
     "autoexec": {
      "startup": false,
      "wait_interval": 0
     },
     "base_uri": "https://localhost:8080/",
     "height": 91
    },
    "colab_type": "code",
    "executionInfo": {
     "elapsed": 12294,
     "status": "ok",
     "timestamp": 1526389915770,
     "user": {
      "displayName": "YASH SHARAN",
      "photoUrl": "https://lh3.googleusercontent.com/a/default-user=s128",
      "userId": "116347204147724801866"
     },
     "user_tz": -330
    },
    "id": "PZWaQUDN3Mus",
    "outputId": "c24608c6-09f9-4d4c-d537-c483df1d3c93"
   },
   "outputs": [
    {
     "name": "stdout",
     "output_type": "stream",
     "text": [
      "E: Failed to fetch http://archive.ubuntu.com/ubuntu/pool/main/d/distro-info-data/distro-info-data_0.36ubuntu0.1_all.deb  404  Not Found [IP: 91.189.88.162 80]\r\n",
      "E: Unable to fetch some archives, maybe run apt-get update or try with --fix-missing?\n",
      "/bin/sh: 1: add-apt-repository: not found\n",
      "E: Unable to locate package google-drive-ocamlfuse\n"
     ]
    }
   ],
   "source": [
    "#Linking drive to colab to store datasets\n",
    "!apt-get install -y -qq software-properties-common python-software-properties module-init-tools\n",
    "!add-apt-repository -y ppa:alessandro-strada/ppa 2>&1 > /dev/null\n",
    "!apt-get update -qq 2>&1 > /dev/null\n",
    "!apt-get -y install -qq google-drive-ocamlfuse fuse"
   ]
  },
  {
   "cell_type": "code",
   "execution_count": 0,
   "metadata": {
    "colab": {
     "autoexec": {
      "startup": false,
      "wait_interval": 0
     }
    },
    "colab_type": "code",
    "id": "OtE2lGKf3R2C"
   },
   "outputs": [],
   "source": [
    "# Generate auth tokens for Colab\n",
    "from google.colab import auth\n",
    "auth.authenticate_user()"
   ]
  },
  {
   "cell_type": "code",
   "execution_count": 4,
   "metadata": {
    "colab": {
     "autoexec": {
      "startup": false,
      "wait_interval": 0
     },
     "base_uri": "https://localhost:8080/",
     "height": 111
    },
    "colab_type": "code",
    "executionInfo": {
     "elapsed": 31338,
     "status": "ok",
     "timestamp": 1526274598686,
     "user": {
      "displayName": "YASH SHARAN",
      "photoUrl": "https://lh3.googleusercontent.com/a/default-user=s128",
      "userId": "116347204147724801866"
     },
     "user_tz": -330
    },
    "id": "UDIxrfgb39Cg",
    "outputId": "2785b224-1c29-4387-c68e-30f3b371512d"
   },
   "outputs": [
    {
     "name": "stdout",
     "output_type": "stream",
     "text": [
      "Please, open the following URL in a web browser: https://accounts.google.com/o/oauth2/auth?client_id=32555940559.apps.googleusercontent.com&redirect_uri=urn%3Aietf%3Awg%3Aoauth%3A2.0%3Aoob&scope=https%3A%2F%2Fwww.googleapis.com%2Fauth%2Fdrive&response_type=code&access_type=offline&approval_prompt=force\r\n",
      "··········\n",
      "Please, open the following URL in a web browser: https://accounts.google.com/o/oauth2/auth?client_id=32555940559.apps.googleusercontent.com&redirect_uri=urn%3Aietf%3Awg%3Aoauth%3A2.0%3Aoob&scope=https%3A%2F%2Fwww.googleapis.com%2Fauth%2Fdrive&response_type=code&access_type=offline&approval_prompt=force\n",
      "Please enter the verification code: Access token retrieved correctly.\n"
     ]
    }
   ],
   "source": [
    "# Generate creds for the Drive FUSE library. Though the link asks you to verify twice, you don't have to!\n",
    "from oauth2client.client import GoogleCredentials\n",
    "creds = GoogleCredentials.get_application_default()\n",
    "import getpass\n",
    "!google-drive-ocamlfuse -headless -id={creds.client_id} -secret={creds.client_secret} < /dev/null 2>&1 | grep URL\n",
    "vcode = getpass.getpass()\n",
    "!echo {vcode} | google-drive-ocamlfuse -headless -id={creds.client_id} -secret={creds.client_secret}"
   ]
  },
  {
   "cell_type": "code",
   "execution_count": 5,
   "metadata": {
    "colab": {
     "autoexec": {
      "startup": false,
      "wait_interval": 0
     },
     "base_uri": "https://localhost:8080/",
     "height": 110
    },
    "colab_type": "code",
    "executionInfo": {
     "elapsed": 5124,
     "status": "ok",
     "timestamp": 1526274610238,
     "user": {
      "displayName": "YASH SHARAN",
      "photoUrl": "https://lh3.googleusercontent.com/a/default-user=s128",
      "userId": "116347204147724801866"
     },
     "user_tz": -330
    },
    "id": "Axo9UOUE39FI",
    "outputId": "152e4a1b-0295-4c01-ecfc-34327b046e3c"
   },
   "outputs": [
    {
     "name": "stdout",
     "output_type": "stream",
     "text": [
      "Files in Drive:\n",
      "attributes.txt\t DL#3_EDA.ipynb     rules.docx\t       train.csv\n",
      "classes.txt\t kaggle\t\t    StudentGrades.xls  train_img\n",
      "Colab Notebooks  Module 01\t    test.csv\t       train_img.zip\n",
      "created.txt\t Presentation.pptx  test_img\t       weights.best.eda.hdf5\n"
     ]
    }
   ],
   "source": [
    "# Create a directory and mount Google Drive using that directory.\n",
    "!mkdir -p drive\n",
    "!google-drive-ocamlfuse drive\n",
    "\n",
    "print ('Files in Drive:')\n",
    "!ls drive/"
   ]
  },
  {
   "cell_type": "code",
   "execution_count": 0,
   "metadata": {
    "colab": {
     "autoexec": {
      "startup": false,
      "wait_interval": 0
     }
    },
    "colab_type": "code",
    "id": "Fud74IfO39K0"
   },
   "outputs": [],
   "source": [
    "# Create a file in a new directory called \"Kaggle\" in your Google Drive. This will be your operation base :P\n",
    "!echo \"This newly created file will appear in your Drive file list. If you are reading this, that means the attempt to integrate was successful\" > drive/kaggle/created.txt"
   ]
  },
  {
   "cell_type": "code",
   "execution_count": 9,
   "metadata": {
    "colab": {
     "autoexec": {
      "startup": false,
      "wait_interval": 0
     },
     "base_uri": "https://localhost:8080/",
     "height": 73
    },
    "colab_type": "code",
    "executionInfo": {
     "elapsed": 1872,
     "status": "ok",
     "timestamp": 1526003291970,
     "user": {
      "displayName": "YASH SHARAN",
      "photoUrl": "https://lh3.googleusercontent.com/a/default-user=s128",
      "userId": "116347204147724801866"
     },
     "user_tz": -330
    },
    "id": "1jwiHghf39TO",
    "outputId": "dd5a00e1-5297-482f-fd3c-2834be1ca81e"
   },
   "outputs": [
    {
     "name": "stdout",
     "output_type": "stream",
     "text": [
      "mkdir: cannot create directory ‘drive/kaggle/train’: File exists\r\n",
      "mkdir: cannot create directory ‘drive/kaggle/validation’: File exists\r\n",
      "mkdir: cannot create directory ‘drive/kaggle/test’: File exists\r\n"
     ]
    }
   ],
   "source": [
    "#The uploaded files are in .zip format. The following code will unzip them into nice json files. This has to be done only the first time!\n",
    "#!unzip \"drive/kaggle/*.zip\" -d drive/kaggle\n",
    "\n",
    "#Now, remove those archives\n",
    "#!rm -f drive/kaggle/*.zip\n",
    "\n",
    "#Make directories for the data\n",
    "!mkdir drive/kaggle/train drive/kaggle/validation drive/kaggle/test"
   ]
  },
  {
   "cell_type": "code",
   "execution_count": 0,
   "metadata": {
    "colab": {
     "autoexec": {
      "startup": false,
      "wait_interval": 0
     }
    },
    "colab_type": "code",
    "id": "rNICtlbgPVV2"
   },
   "outputs": [],
   "source": []
  },
  {
   "cell_type": "code",
   "execution_count": 14,
   "metadata": {
    "colab": {
     "autoexec": {
      "startup": false,
      "wait_interval": 0
     },
     "base_uri": "https://localhost:8080/",
     "height": 248
    },
    "colab_type": "code",
    "executionInfo": {
     "elapsed": 834,
     "status": "error",
     "timestamp": 1526234422238,
     "user": {
      "displayName": "YASH SHARAN",
      "photoUrl": "https://lh3.googleusercontent.com/a/default-user=s128",
      "userId": "116347204147724801866"
     },
     "user_tz": -330
    },
    "id": "nxhED-F839V2",
    "outputId": "133825e0-41ce-4f54-fb72-1a50ba7ad3cc"
   },
   "outputs": [
    {
     "ename": "OSError",
     "evalue": "ignored",
     "output_type": "error",
     "traceback": [
      "\u001b[0;31m---------------------------------------------------------------------------\u001b[0m",
      "\u001b[0;31mOSError\u001b[0m                                   Traceback (most recent call last)",
      "\u001b[0;32m<ipython-input-14-974424f1463b>\u001b[0m in \u001b[0;36m<module>\u001b[0;34m()\u001b[0m\n\u001b[1;32m      4\u001b[0m \u001b[0;32mimport\u001b[0m \u001b[0mtime\u001b[0m\u001b[0;34m\u001b[0m\u001b[0m\n\u001b[1;32m      5\u001b[0m \u001b[0;34m\u001b[0m\u001b[0m\n\u001b[0;32m----> 6\u001b[0;31m \u001b[0mtrain_data\u001b[0m \u001b[0;34m=\u001b[0m \u001b[0mjson\u001b[0m\u001b[0;34m.\u001b[0m\u001b[0mload\u001b[0m\u001b[0;34m(\u001b[0m\u001b[0mopen\u001b[0m\u001b[0;34m(\u001b[0m\u001b[0;34m'drive/kaggle/train.json'\u001b[0m\u001b[0;34m)\u001b[0m\u001b[0;34m)\u001b[0m\u001b[0;34m\u001b[0m\u001b[0m\n\u001b[0m\u001b[1;32m      7\u001b[0m \u001b[0mget_ipython\u001b[0m\u001b[0;34m(\u001b[0m\u001b[0;34m)\u001b[0m\u001b[0;34m.\u001b[0m\u001b[0msystem\u001b[0m\u001b[0;34m(\u001b[0m\u001b[0;34m'echo ImageURL, ImgName, ImgId, LabelId >> drive/kaggle/train/train.txt'\u001b[0m\u001b[0;34m)\u001b[0m\u001b[0;34m\u001b[0m\u001b[0m\n\u001b[1;32m      8\u001b[0m \u001b[0;34m\u001b[0m\u001b[0m\n",
      "\u001b[0;31mOSError\u001b[0m: [Errno 107] Transport endpoint is not connected: 'drive/kaggle/train.json'"
     ]
    }
   ],
   "source": [
    "#Now, to download the train set into your drive from the urls in the JSON files, execute the below.  Also, a file is generated with the ImageURL, imageName, imageId and \n",
    "#their labelIds.\n",
    "\n",
    "\n",
    "import json\n",
    "import time\n",
    "\n",
    "train_data = json.load(open('drive/kaggle/train.json'))\n",
    "!echo ImageURL, ImgName, ImgId, LabelId >> drive/kaggle/train/train.txt\n",
    "\n",
    "for i in range(5825,5827):\n",
    "  img_url = train_data['images'][i]['url']\n",
    "  img_id = train_data['images'][i]['imageId']\n",
    "  label_id = train_data['annotations'][i]['labelId']\n",
    "  img_name=\"Image-\"+str(i)\n",
    "  #print img_name\n",
    "  #img_name_actual = img_name.split(\"-\")[0]\n",
    "  img_name_large = img_name+\".jpg\"\n",
    "  #print img_name_actual\n",
    "  img_url_large = img_url.split(\"-\")[-2]\n",
    "  img_url_large = img_url_large + \"-large\"\n",
    "  print (img_url_large)\n",
    "  !curl $img_url_large > drive/kaggle/train/$img_name_large\n",
    "  time.sleep(0.05) \n",
    "  !echo $img_url_large,$img_name_large,$img_id,$label_id >> drive/kaggle/train/train.txt \n",
    "  #time.sleep(0.5)"
   ]
  },
  {
   "cell_type": "code",
   "execution_count": 0,
   "metadata": {
    "colab": {
     "autoexec": {
      "startup": false,
      "wait_interval": 0
     }
    },
    "colab_type": "code",
    "id": "bTw7uKFr39JS"
   },
   "outputs": [],
   "source": [
    "#To download validation data on to your drive...\n",
    "\n",
    "import json\n",
    "import time\n",
    "\n",
    "val_data = json.load(open('drive/kaggle/validation.json'))\n",
    "!echo ImageURL, ImgName, ImgId, LabelId >> drive/kaggle/validation/validation.txt \n",
    "\n",
    "for i in range(len(val_data['images'])):\n",
    "  img_url = val_data['images'][i]['url']\n",
    "  #print img_url\n",
    "  img_id = val_data['images'][i]['imageId']\n",
    "  #print img_id\n",
    "  label_id = val_data['annotations'][i]['labelId']\n",
    "  #print label_id\n",
    "  img_name=img_url.split(\"/\")[-1]\n",
    "  #print img_name\n",
    "  img_name_actual = img_name.split(\"-\")[0]\n",
    "  img_name_small = img_name_actual + \"-small\"+\".jpg\"\n",
    "  #print img_name_actual\n",
    "  img_url_small = img_url.split(\"-\")[-2]\n",
    "  img_url_small = img_url_small + \"-small\"\n",
    "  print img_url_small\n",
    "  !curl $img_url_small > drive/kaggle/validation/$img_name_small\n",
    "  time.sleep(0.05)\n",
    "  !echo $img_name_actual,$img_id,$label_id >> drive/kaggle/validation/validation.txt \n",
    "  #time.sleep(0.05)"
   ]
  },
  {
   "cell_type": "code",
   "execution_count": 0,
   "metadata": {
    "colab": {
     "autoexec": {
      "startup": false,
      "wait_interval": 0
     }
    },
    "colab_type": "code",
    "id": "f0tdE2t84SFK"
   },
   "outputs": [],
   "source": [
    "#And this is for downloading test data into your drive\n",
    "\n",
    "import json\n",
    "import time\n",
    "\n",
    "test_data = json.load(open('drive/kaggle/test.json'))\n",
    "#print len(test_data['images'])\n",
    "\n",
    "for i in range(len(test_data['images'])):\n",
    "  img_url = test_data['images'][i]['url']\n",
    "  #print img_url\n",
    "  img_id = test_data['images'][i]['imageId']\n",
    "  #print img_id\n",
    "  img_name=img_url.split(\"/\")[-1]\n",
    "  #print img_name\n",
    "  img_name_actual = img_name.split(\"-\")[0]\n",
    "  img_name_small = img_name_actual + \"-small\"+\".jpg\"\n",
    "  #print img_name_actual\n",
    "  img_url_small = img_url.split(\"-\")[-2]\n",
    "  img_url_small = img_url_small + \"-small\"\n",
    "  print img_url_small\n",
    "  !curl $img_url_small > drive/kaggle/test/$img_name_small\n",
    "  time.sleep(0.05)"
   ]
  },
  {
   "cell_type": "code",
   "execution_count": 76,
   "metadata": {
    "colab": {
     "autoexec": {
      "startup": false,
      "wait_interval": 0
     },
     "base_uri": "https://localhost:8080/",
     "height": 267
    },
    "colab_type": "code",
    "executionInfo": {
     "elapsed": 1012,
     "status": "error",
     "timestamp": 1526290751842,
     "user": {
      "displayName": "YASH SHARAN",
      "photoUrl": "https://lh3.googleusercontent.com/a/default-user=s128",
      "userId": "116347204147724801866"
     },
     "user_tz": -330
    },
    "id": "aFZnrW26r7wc",
    "outputId": "c84f7a3a-6709-48fc-aee2-3aead37b5422"
   },
   "outputs": [
    {
     "name": "stdout",
     "output_type": "stream",
     "text": [
      "0.00 min: Start loading data\n",
      "Train No. of images: 1014544\n",
      "0.15 min: Finish loading data\n",
      "==================================================\n"
     ]
    }
   ],
   "source": [
    "# 1. Load data =================================================================\n",
    "\n",
    "import time\n",
    "import json\n",
    "script_start_time = time.time()\n",
    "\n",
    "import pandas as pd\n",
    "import numpy as np\n",
    "print('%0.2f min: Start loading data'%((time.time() - script_start_time)/60))\n",
    "\n",
    "train={}\n",
    "test={}\n",
    "validation={}\n",
    "with open('/home/yash/Desktop/Fashion prediction/input/train.json') as json_data:\n",
    "    train= json.load(json_data)\n",
    "#with open('/home/yash/Desktop/Fashion prediction/input/test.json') as json_data:\n",
    "    #test= json.load(json_data)\n",
    "#with open('/home/yash/Desktop/Fashion prediction/input/validation.json') as json_data:\n",
    "    #validation = json.load(json_data)\n",
    "\n",
    "print('Train No. of images: %d'%(len(train['images'])))\n",
    "#print('Test No. of images: %d'%(len(test['images'])))\n",
    "#print('Validation No. of images: %d'%(len(validation['images'])))\n",
    "\n",
    "# JSON TO PANDAS DATAFRAME\n",
    "# train data\n",
    "train_img_url=train['images']\n",
    "train_img_url=pd.DataFrame(train_img_url)\n",
    "trin_img_url=train_img_url[0:9752]\n",
    "train_ann=train['annotations']\n",
    "train_ann=pd.DataFrame(train_ann)\n",
    "train_ann=train_ann[0:9752]\n",
    "train=pd.merge(train_img_url, train_ann, on='imageId', how='inner')\n",
    "train=train[0:9752]\n",
    "\n",
    "# test data\n",
    "#test=pd.DataFrame(test['images'])\n",
    "\n",
    "# Validation Data\n",
    "#val_img_url=validation['images']\n",
    "#val_img_url=pd.DataFrame(val_img_url)\n",
    "#val_ann=validation['annotations']\n",
    "#val_ann=pd.DataFrame(val_ann)\n",
    "#validation=pd.merge(val_img_url, val_ann, on='imageId', how='inner')\n",
    "\n",
    "datas = {'Train': train}\n",
    "for data in datas.values():\n",
    "    data['imageId'] = data['imageId'].astype(np.uint32)\n",
    "\n",
    "print('%0.2f min: Finish loading data'%((time.time() - script_start_time)/60))\n",
    "print('='*50)"
   ]
  },
  {
   "cell_type": "code",
   "execution_count": 8,
   "metadata": {
    "colab": {
     "autoexec": {
      "startup": false,
      "wait_interval": 0
     },
     "base_uri": "https://localhost:8080/",
     "height": 211
    },
    "colab_type": "code",
    "executionInfo": {
     "elapsed": 19042,
     "status": "error",
     "timestamp": 1526274770636,
     "user": {
      "displayName": "YASH SHARAN",
      "photoUrl": "https://lh3.googleusercontent.com/a/default-user=s128",
      "userId": "116347204147724801866"
     },
     "user_tz": -330
    },
    "id": "l6U9F3mZt-ek",
    "outputId": "3ddbe404-0476-4047-ca52-dfbda90f4739"
   },
   "outputs": [
    {
     "ename": "TypeError",
     "evalue": "ignored",
     "output_type": "error",
     "traceback": [
      "\u001b[0;31m---------------------------------------------------------------------------\u001b[0m",
      "\u001b[0;31mTypeError\u001b[0m                                 Traceback (most recent call last)",
      "\u001b[0;32m<ipython-input-8-7ab2ad70113c>\u001b[0m in \u001b[0;36m<module>\u001b[0;34m()\u001b[0m\n\u001b[1;32m      3\u001b[0m \u001b[0;32mwith\u001b[0m \u001b[0mopen\u001b[0m\u001b[0;34m(\u001b[0m\u001b[0;34m'drive/kaggle/train.json'\u001b[0m\u001b[0;34m)\u001b[0m \u001b[0;32mas\u001b[0m \u001b[0mjson_data\u001b[0m\u001b[0;34m:\u001b[0m\u001b[0;34m\u001b[0m\u001b[0m\n\u001b[1;32m      4\u001b[0m     \u001b[0mtrain\u001b[0m\u001b[0;34m=\u001b[0m \u001b[0mjson\u001b[0m\u001b[0;34m.\u001b[0m\u001b[0mload\u001b[0m\u001b[0;34m(\u001b[0m\u001b[0mjson_data\u001b[0m\u001b[0;34m)\u001b[0m\u001b[0;34m\u001b[0m\u001b[0m\n\u001b[0;32m----> 5\u001b[0;31m \u001b[0mtrain\u001b[0m\u001b[0;34m=\u001b[0m\u001b[0mtrain\u001b[0m\u001b[0;34m[\u001b[0m\u001b[0;36m0\u001b[0m\u001b[0;34m:\u001b[0m\u001b[0;36m10000\u001b[0m\u001b[0;34m]\u001b[0m\u001b[0;34m\u001b[0m\u001b[0m\n\u001b[0m",
      "\u001b[0;31mTypeError\u001b[0m: unhashable type: 'slice'"
     ]
    }
   ],
   "source": [
    "i"
   ]
  },
  {
   "cell_type": "code",
   "execution_count": 77,
   "metadata": {
    "colab": {
     "autoexec": {
      "startup": false,
      "wait_interval": 0
     },
     "base_uri": "https://localhost:8080/",
     "height": 148
    },
    "colab_type": "code",
    "executionInfo": {
     "elapsed": 5078,
     "status": "ok",
     "timestamp": 1526275742250,
     "user": {
      "displayName": "YASH SHARAN",
      "photoUrl": "https://lh3.googleusercontent.com/a/default-user=s128",
      "userId": "116347204147724801866"
     },
     "user_tz": -330
    },
    "id": "rk-ujIGNsTUC",
    "outputId": "125ffb89-e2ac-43e0-b63d-64783afdceab"
   },
   "outputs": [
    {
     "name": "stdout",
     "output_type": "stream",
     "text": [
      "0.20 min: Start converting label\n",
      "['1', '10', '100', '101', '102', '103', '104', '105', '106', '107', '108', '109', '11', '110', '111', '112', '113', '114', '115', '116', '117', '118', '119', '12', '120', '121', '122', '123', '124', '125', '126', '127', '128', '129', '13', '130', '131', '132', '133', '134', '135', '136', '137', '138', '139', '14', '140', '141', '142', '143', '144', '146', '147', '148', '149', '15', '150', '151', '152', '153', '154', '155', '157', '158', '159', '160', '161', '162', '164', '165', '166', '167', '168', '169', '17', '170', '171', '172', '173', '174', '175', '176', '177', '178', '179', '18', '180', '181', '182', '183', '184', '185', '186', '187', '188', '189', '19', '190', '191', '192', '193', '195', '196', '197', '198', '199', '2', '20', '200', '201', '202', '203', '204', '205', '206', '207', '208', '209', '21', '210', '211', '212', '213', '214', '215', '216', '217', '218', '219', '22', '220', '221', '222', '223', '224', '225', '226', '227', '228', '23', '24', '25', '26', '27', '28', '29', '3', '30', '31', '32', '33', '34', '35', '36', '37', '38', '39', '4', '40', '42', '43', '44', '45', '46', '47', '48', '49', '5', '50', '51', '52', '53', '54', '55', '56', '57', '58', '59', '6', '60', '61', '62', '63', '64', '65', '66', '67', '68', '69', '7', '70', '71', '72', '73', '74', '75', '76', '77', '78', '79', '8', '80', '81', '82', '83', '84', '85', '86', '87', '88', '89', '9', '90', '91', '92', '93', '95', '96', '97', '98', '99']\n",
      "0.20 min: Finish converting label\n",
      "(9752, 221)\n"
     ]
    },
    {
     "ename": "AttributeError",
     "evalue": "'dict' object has no attribute 'shape'",
     "output_type": "error",
     "traceback": [
      "\u001b[0;31m---------------------------------------------------------------------------\u001b[0m",
      "\u001b[0;31mAttributeError\u001b[0m                            Traceback (most recent call last)",
      "\u001b[0;32m<ipython-input-77-04dfa269a464>\u001b[0m in \u001b[0;36m<module>\u001b[0;34m()\u001b[0m\n\u001b[1;32m      9\u001b[0m \u001b[0;34m\u001b[0m\u001b[0m\n\u001b[1;32m     10\u001b[0m \u001b[0;32mfor\u001b[0m \u001b[0mdata\u001b[0m \u001b[0;32min\u001b[0m \u001b[0;34m[\u001b[0m\u001b[0mtrain_label\u001b[0m\u001b[0;34m,\u001b[0m \u001b[0mtest\u001b[0m\u001b[0;34m]\u001b[0m\u001b[0;34m:\u001b[0m\u001b[0;34m\u001b[0m\u001b[0m\n\u001b[0;32m---> 11\u001b[0;31m     \u001b[0mprint\u001b[0m\u001b[0;34m(\u001b[0m\u001b[0mdata\u001b[0m\u001b[0;34m.\u001b[0m\u001b[0mshape\u001b[0m\u001b[0;34m)\u001b[0m\u001b[0;34m\u001b[0m\u001b[0m\n\u001b[0m",
      "\u001b[0;31mAttributeError\u001b[0m: 'dict' object has no attribute 'shape'"
     ]
    }
   ],
   "source": [
    "print('%0.2f min: Start converting label'%((time.time() - script_start_time)/60))\n",
    "from sklearn.preprocessing import MultiLabelBinarizer\n",
    "mlb = MultiLabelBinarizer()\n",
    "train_label = mlb.fit_transform(train['labelId'])\n",
    "#validation_label = mlb.transform(validation['labelId'])\n",
    "dummy_label_col = list(mlb.classes_)\n",
    "print(dummy_label_col)\n",
    "print('%0.2f min: Finish converting label'%((time.time() - script_start_time)/60))\n",
    "\n",
    "for data in [train_label, test]:\n",
    "    print(data.shape)"
   ]
  },
  {
   "cell_type": "code",
   "execution_count": 86,
   "metadata": {
    "colab": {
     "autoexec": {
      "startup": false,
      "wait_interval": 0
     },
     "base_uri": "https://localhost:8080/",
     "height": 79
    },
    "colab_type": "code",
    "executionInfo": {
     "elapsed": 1010,
     "status": "ok",
     "timestamp": 1526275746074,
     "user": {
      "displayName": "YASH SHARAN",
      "photoUrl": "https://lh3.googleusercontent.com/a/default-user=s128",
      "userId": "116347204147724801866"
     },
     "user_tz": -330
    },
    "id": "663JM9lIuCqS",
    "outputId": "f4e80f46-1728-4200-d693-acafff9456d9"
   },
   "outputs": [
    {
     "data": {
      "text/html": [
       "<div>\n",
       "<style scoped>\n",
       "    .dataframe tbody tr th:only-of-type {\n",
       "        vertical-align: middle;\n",
       "    }\n",
       "\n",
       "    .dataframe tbody tr th {\n",
       "        vertical-align: top;\n",
       "    }\n",
       "\n",
       "    .dataframe thead th {\n",
       "        text-align: right;\n",
       "    }\n",
       "</style>\n",
       "<table border=\"1\" class=\"dataframe\">\n",
       "  <thead>\n",
       "    <tr style=\"text-align: right;\">\n",
       "      <th></th>\n",
       "    </tr>\n",
       "  </thead>\n",
       "  <tbody>\n",
       "  </tbody>\n",
       "</table>\n",
       "</div>"
      ],
      "text/plain": [
       "Empty DataFrame\n",
       "Columns: []\n",
       "Index: []"
      ]
     },
     "execution_count": 86,
     "metadata": {},
     "output_type": "execute_result"
    }
   ],
   "source": [
    "\n",
    "dummy_label_col = pd.DataFrame(columns = dummy_label_col)\n",
    "# dummy_label_col.to_csv('%s/dummy_label_col.csv'%'', index = False)\n",
    "# np.save('%s/dummy_label_train.npy' % '', train_label)\n",
    "# np.save('%s/dummy_label_val.npy' % '', validation_label)\n",
    "dummy_label_col.head()"
   ]
  },
  {
   "cell_type": "code",
   "execution_count": 87,
   "metadata": {
    "colab": {
     "autoexec": {
      "startup": false,
      "wait_interval": 0
     },
     "base_uri": "https://localhost:8080/",
     "height": 235
    },
    "colab_type": "code",
    "executionInfo": {
     "elapsed": 754,
     "status": "ok",
     "timestamp": 1526275747098,
     "user": {
      "displayName": "YASH SHARAN",
      "photoUrl": "https://lh3.googleusercontent.com/a/default-user=s128",
      "userId": "116347204147724801866"
     },
     "user_tz": -330
    },
    "id": "10hzoplXvTBe",
    "outputId": "780d456f-dd6f-4c83-ea95-90ef67af3008"
   },
   "outputs": [
    {
     "data": {
      "text/html": [
       "<div>\n",
       "<style scoped>\n",
       "    .dataframe tbody tr th:only-of-type {\n",
       "        vertical-align: middle;\n",
       "    }\n",
       "\n",
       "    .dataframe tbody tr th {\n",
       "        vertical-align: top;\n",
       "    }\n",
       "\n",
       "    .dataframe thead th {\n",
       "        text-align: right;\n",
       "    }\n",
       "</style>\n",
       "<table border=\"1\" class=\"dataframe\">\n",
       "  <thead>\n",
       "    <tr style=\"text-align: right;\">\n",
       "      <th></th>\n",
       "      <th>1</th>\n",
       "      <th>10</th>\n",
       "      <th>100</th>\n",
       "      <th>101</th>\n",
       "      <th>102</th>\n",
       "      <th>103</th>\n",
       "      <th>104</th>\n",
       "      <th>105</th>\n",
       "      <th>106</th>\n",
       "      <th>107</th>\n",
       "      <th>...</th>\n",
       "      <th>9</th>\n",
       "      <th>90</th>\n",
       "      <th>91</th>\n",
       "      <th>92</th>\n",
       "      <th>93</th>\n",
       "      <th>95</th>\n",
       "      <th>96</th>\n",
       "      <th>97</th>\n",
       "      <th>98</th>\n",
       "      <th>99</th>\n",
       "    </tr>\n",
       "  </thead>\n",
       "  <tbody>\n",
       "    <tr>\n",
       "      <th>0</th>\n",
       "      <td>0</td>\n",
       "      <td>0</td>\n",
       "      <td>0</td>\n",
       "      <td>0</td>\n",
       "      <td>0</td>\n",
       "      <td>0</td>\n",
       "      <td>0</td>\n",
       "      <td>0</td>\n",
       "      <td>0</td>\n",
       "      <td>0</td>\n",
       "      <td>...</td>\n",
       "      <td>0</td>\n",
       "      <td>0</td>\n",
       "      <td>0</td>\n",
       "      <td>0</td>\n",
       "      <td>0</td>\n",
       "      <td>1</td>\n",
       "      <td>0</td>\n",
       "      <td>0</td>\n",
       "      <td>0</td>\n",
       "      <td>0</td>\n",
       "    </tr>\n",
       "    <tr>\n",
       "      <th>1</th>\n",
       "      <td>0</td>\n",
       "      <td>0</td>\n",
       "      <td>0</td>\n",
       "      <td>0</td>\n",
       "      <td>0</td>\n",
       "      <td>0</td>\n",
       "      <td>0</td>\n",
       "      <td>1</td>\n",
       "      <td>0</td>\n",
       "      <td>0</td>\n",
       "      <td>...</td>\n",
       "      <td>0</td>\n",
       "      <td>0</td>\n",
       "      <td>0</td>\n",
       "      <td>0</td>\n",
       "      <td>0</td>\n",
       "      <td>0</td>\n",
       "      <td>0</td>\n",
       "      <td>0</td>\n",
       "      <td>0</td>\n",
       "      <td>0</td>\n",
       "    </tr>\n",
       "    <tr>\n",
       "      <th>2</th>\n",
       "      <td>0</td>\n",
       "      <td>0</td>\n",
       "      <td>0</td>\n",
       "      <td>0</td>\n",
       "      <td>0</td>\n",
       "      <td>0</td>\n",
       "      <td>0</td>\n",
       "      <td>1</td>\n",
       "      <td>0</td>\n",
       "      <td>0</td>\n",
       "      <td>...</td>\n",
       "      <td>0</td>\n",
       "      <td>0</td>\n",
       "      <td>0</td>\n",
       "      <td>0</td>\n",
       "      <td>0</td>\n",
       "      <td>0</td>\n",
       "      <td>0</td>\n",
       "      <td>1</td>\n",
       "      <td>0</td>\n",
       "      <td>0</td>\n",
       "    </tr>\n",
       "    <tr>\n",
       "      <th>3</th>\n",
       "      <td>0</td>\n",
       "      <td>0</td>\n",
       "      <td>0</td>\n",
       "      <td>0</td>\n",
       "      <td>0</td>\n",
       "      <td>0</td>\n",
       "      <td>0</td>\n",
       "      <td>0</td>\n",
       "      <td>0</td>\n",
       "      <td>0</td>\n",
       "      <td>...</td>\n",
       "      <td>0</td>\n",
       "      <td>0</td>\n",
       "      <td>0</td>\n",
       "      <td>0</td>\n",
       "      <td>0</td>\n",
       "      <td>0</td>\n",
       "      <td>0</td>\n",
       "      <td>0</td>\n",
       "      <td>0</td>\n",
       "      <td>0</td>\n",
       "    </tr>\n",
       "    <tr>\n",
       "      <th>4</th>\n",
       "      <td>0</td>\n",
       "      <td>0</td>\n",
       "      <td>0</td>\n",
       "      <td>0</td>\n",
       "      <td>0</td>\n",
       "      <td>0</td>\n",
       "      <td>0</td>\n",
       "      <td>0</td>\n",
       "      <td>0</td>\n",
       "      <td>0</td>\n",
       "      <td>...</td>\n",
       "      <td>0</td>\n",
       "      <td>0</td>\n",
       "      <td>0</td>\n",
       "      <td>0</td>\n",
       "      <td>0</td>\n",
       "      <td>0</td>\n",
       "      <td>0</td>\n",
       "      <td>0</td>\n",
       "      <td>0</td>\n",
       "      <td>0</td>\n",
       "    </tr>\n",
       "  </tbody>\n",
       "</table>\n",
       "<p>5 rows × 221 columns</p>\n",
       "</div>"
      ],
      "text/plain": [
       "   1  10  100  101  102  103  104  105  106  107 ...  9  90  91  92  93  95  \\\n",
       "0  0   0    0    0    0    0    0    0    0    0 ...  0   0   0   0   0   1   \n",
       "1  0   0    0    0    0    0    0    1    0    0 ...  0   0   0   0   0   0   \n",
       "2  0   0    0    0    0    0    0    1    0    0 ...  0   0   0   0   0   0   \n",
       "3  0   0    0    0    0    0    0    0    0    0 ...  0   0   0   0   0   0   \n",
       "4  0   0    0    0    0    0    0    0    0    0 ...  0   0   0   0   0   0   \n",
       "\n",
       "   96  97  98  99  \n",
       "0   0   0   0   0  \n",
       "1   0   0   0   0  \n",
       "2   0   1   0   0  \n",
       "3   0   0   0   0  \n",
       "4   0   0   0   0  \n",
       "\n",
       "[5 rows x 221 columns]"
      ]
     },
     "execution_count": 87,
     "metadata": {},
     "output_type": "execute_result"
    }
   ],
   "source": [
    "\n",
    "\n",
    "# Save as csv if you prefer\n",
    "train_label = pd.DataFrame(data = train_label, columns = list(mlb.classes_))\n",
    "train_label.head()\n",
    "#validation_label = pd.DataFrame(data = validation_label, columns = list(mlb.classes_))\n",
    "#validation_label.head()\n",
    "\n"
   ]
  },
  {
   "cell_type": "code",
   "execution_count": null,
   "metadata": {
    "colab": {
     "autoexec": {
      "startup": false,
      "wait_interval": 0
     }
    },
    "colab_type": "code",
    "id": "bkS4u6Nzvabq"
   },
   "outputs": [],
   "source": []
  },
  {
   "cell_type": "code",
   "execution_count": 80,
   "metadata": {
    "colab": {
     "autoexec": {
      "startup": false,
      "wait_interval": 0
     },
     "base_uri": "https://localhost:8080/",
     "height": 235
    },
    "colab_type": "code",
    "executionInfo": {
     "elapsed": 896,
     "status": "ok",
     "timestamp": 1526275753762,
     "user": {
      "displayName": "YASH SHARAN",
      "photoUrl": "https://lh3.googleusercontent.com/a/default-user=s128",
      "userId": "116347204147724801866"
     },
     "user_tz": -330
    },
    "id": "UbNRnS_bSSGw",
    "outputId": "06f3629f-788c-4bec-97ab-68e4143bdab1"
   },
   "outputs": [
    {
     "data": {
      "text/html": [
       "<div>\n",
       "<style scoped>\n",
       "    .dataframe tbody tr th:only-of-type {\n",
       "        vertical-align: middle;\n",
       "    }\n",
       "\n",
       "    .dataframe tbody tr th {\n",
       "        vertical-align: top;\n",
       "    }\n",
       "\n",
       "    .dataframe thead th {\n",
       "        text-align: right;\n",
       "    }\n",
       "</style>\n",
       "<table border=\"1\" class=\"dataframe\">\n",
       "  <thead>\n",
       "    <tr style=\"text-align: right;\">\n",
       "      <th></th>\n",
       "      <th>1</th>\n",
       "      <th>10</th>\n",
       "      <th>100</th>\n",
       "      <th>101</th>\n",
       "      <th>102</th>\n",
       "      <th>103</th>\n",
       "      <th>104</th>\n",
       "      <th>105</th>\n",
       "      <th>106</th>\n",
       "      <th>107</th>\n",
       "      <th>...</th>\n",
       "      <th>9</th>\n",
       "      <th>90</th>\n",
       "      <th>91</th>\n",
       "      <th>92</th>\n",
       "      <th>93</th>\n",
       "      <th>95</th>\n",
       "      <th>96</th>\n",
       "      <th>97</th>\n",
       "      <th>98</th>\n",
       "      <th>99</th>\n",
       "    </tr>\n",
       "  </thead>\n",
       "  <tbody>\n",
       "    <tr>\n",
       "      <th>0</th>\n",
       "      <td>0</td>\n",
       "      <td>0</td>\n",
       "      <td>0</td>\n",
       "      <td>0</td>\n",
       "      <td>0</td>\n",
       "      <td>0</td>\n",
       "      <td>0</td>\n",
       "      <td>0</td>\n",
       "      <td>0</td>\n",
       "      <td>0</td>\n",
       "      <td>...</td>\n",
       "      <td>0</td>\n",
       "      <td>0</td>\n",
       "      <td>0</td>\n",
       "      <td>0</td>\n",
       "      <td>0</td>\n",
       "      <td>1</td>\n",
       "      <td>0</td>\n",
       "      <td>0</td>\n",
       "      <td>0</td>\n",
       "      <td>0</td>\n",
       "    </tr>\n",
       "    <tr>\n",
       "      <th>1</th>\n",
       "      <td>0</td>\n",
       "      <td>0</td>\n",
       "      <td>0</td>\n",
       "      <td>0</td>\n",
       "      <td>0</td>\n",
       "      <td>0</td>\n",
       "      <td>0</td>\n",
       "      <td>1</td>\n",
       "      <td>0</td>\n",
       "      <td>0</td>\n",
       "      <td>...</td>\n",
       "      <td>0</td>\n",
       "      <td>0</td>\n",
       "      <td>0</td>\n",
       "      <td>0</td>\n",
       "      <td>0</td>\n",
       "      <td>0</td>\n",
       "      <td>0</td>\n",
       "      <td>0</td>\n",
       "      <td>0</td>\n",
       "      <td>0</td>\n",
       "    </tr>\n",
       "    <tr>\n",
       "      <th>2</th>\n",
       "      <td>0</td>\n",
       "      <td>0</td>\n",
       "      <td>0</td>\n",
       "      <td>0</td>\n",
       "      <td>0</td>\n",
       "      <td>0</td>\n",
       "      <td>0</td>\n",
       "      <td>1</td>\n",
       "      <td>0</td>\n",
       "      <td>0</td>\n",
       "      <td>...</td>\n",
       "      <td>0</td>\n",
       "      <td>0</td>\n",
       "      <td>0</td>\n",
       "      <td>0</td>\n",
       "      <td>0</td>\n",
       "      <td>0</td>\n",
       "      <td>0</td>\n",
       "      <td>1</td>\n",
       "      <td>0</td>\n",
       "      <td>0</td>\n",
       "    </tr>\n",
       "    <tr>\n",
       "      <th>3</th>\n",
       "      <td>0</td>\n",
       "      <td>0</td>\n",
       "      <td>0</td>\n",
       "      <td>0</td>\n",
       "      <td>0</td>\n",
       "      <td>0</td>\n",
       "      <td>0</td>\n",
       "      <td>0</td>\n",
       "      <td>0</td>\n",
       "      <td>0</td>\n",
       "      <td>...</td>\n",
       "      <td>0</td>\n",
       "      <td>0</td>\n",
       "      <td>0</td>\n",
       "      <td>0</td>\n",
       "      <td>0</td>\n",
       "      <td>0</td>\n",
       "      <td>0</td>\n",
       "      <td>0</td>\n",
       "      <td>0</td>\n",
       "      <td>0</td>\n",
       "    </tr>\n",
       "    <tr>\n",
       "      <th>4</th>\n",
       "      <td>0</td>\n",
       "      <td>0</td>\n",
       "      <td>0</td>\n",
       "      <td>0</td>\n",
       "      <td>0</td>\n",
       "      <td>0</td>\n",
       "      <td>0</td>\n",
       "      <td>0</td>\n",
       "      <td>0</td>\n",
       "      <td>0</td>\n",
       "      <td>...</td>\n",
       "      <td>0</td>\n",
       "      <td>0</td>\n",
       "      <td>0</td>\n",
       "      <td>0</td>\n",
       "      <td>0</td>\n",
       "      <td>0</td>\n",
       "      <td>0</td>\n",
       "      <td>0</td>\n",
       "      <td>0</td>\n",
       "      <td>0</td>\n",
       "    </tr>\n",
       "  </tbody>\n",
       "</table>\n",
       "<p>5 rows × 221 columns</p>\n",
       "</div>"
      ],
      "text/plain": [
       "   1  10  100  101  102  103  104  105  106  107 ...  9  90  91  92  93  95  \\\n",
       "0  0   0    0    0    0    0    0    0    0    0 ...  0   0   0   0   0   1   \n",
       "1  0   0    0    0    0    0    0    1    0    0 ...  0   0   0   0   0   0   \n",
       "2  0   0    0    0    0    0    0    1    0    0 ...  0   0   0   0   0   0   \n",
       "3  0   0    0    0    0    0    0    0    0    0 ...  0   0   0   0   0   0   \n",
       "4  0   0    0    0    0    0    0    0    0    0 ...  0   0   0   0   0   0   \n",
       "\n",
       "   96  97  98  99  \n",
       "0   0   0   0   0  \n",
       "1   0   0   0   0  \n",
       "2   0   1   0   0  \n",
       "3   0   0   0   0  \n",
       "4   0   0   0   0  \n",
       "\n",
       "[5 rows x 221 columns]"
      ]
     },
     "execution_count": 80,
     "metadata": {},
     "output_type": "execute_result"
    }
   ],
   "source": [
    "train_label.head()\n"
   ]
  },
  {
   "cell_type": "code",
   "execution_count": 81,
   "metadata": {
    "colab": {
     "autoexec": {
      "startup": false,
      "wait_interval": 0
     },
     "base_uri": "https://localhost:8080/",
     "height": 206
    },
    "colab_type": "code",
    "executionInfo": {
     "elapsed": 1204,
     "status": "ok",
     "timestamp": 1526224596210,
     "user": {
      "displayName": "YASH SHARAN",
      "photoUrl": "https://lh3.googleusercontent.com/a/default-user=s128",
      "userId": "116347204147724801866"
     },
     "user_tz": -330
    },
    "id": "zIj4a3kxExYi",
    "outputId": "ec1b4c3b-a277-4b41-e8fd-3ed5bd42bacc",
    "scrolled": true
   },
   "outputs": [
    {
     "data": {
      "text/html": [
       "<div>\n",
       "<style scoped>\n",
       "    .dataframe tbody tr th:only-of-type {\n",
       "        vertical-align: middle;\n",
       "    }\n",
       "\n",
       "    .dataframe tbody tr th {\n",
       "        vertical-align: top;\n",
       "    }\n",
       "\n",
       "    .dataframe thead th {\n",
       "        text-align: right;\n",
       "    }\n",
       "</style>\n",
       "<table border=\"1\" class=\"dataframe\">\n",
       "  <thead>\n",
       "    <tr style=\"text-align: right;\">\n",
       "      <th></th>\n",
       "      <th>imageId</th>\n",
       "      <th>url</th>\n",
       "      <th>labelId</th>\n",
       "    </tr>\n",
       "  </thead>\n",
       "  <tbody>\n",
       "    <tr>\n",
       "      <th>0</th>\n",
       "      <td>1</td>\n",
       "      <td>https://contestimg.wish.com/api/webimage/570f3...</td>\n",
       "      <td>[95, 66, 137, 70, 20]</td>\n",
       "    </tr>\n",
       "    <tr>\n",
       "      <th>1</th>\n",
       "      <td>2</td>\n",
       "      <td>https://contestimg.wish.com/api/webimage/5468f...</td>\n",
       "      <td>[36, 66, 44, 214, 105, 133]</td>\n",
       "    </tr>\n",
       "    <tr>\n",
       "      <th>2</th>\n",
       "      <td>3</td>\n",
       "      <td>https://contestimg.wish.com/api/webimage/54641...</td>\n",
       "      <td>[170, 66, 97, 153, 105, 138]</td>\n",
       "    </tr>\n",
       "    <tr>\n",
       "      <th>3</th>\n",
       "      <td>4</td>\n",
       "      <td>https://contestimg.wish.com/api/webimage/550b9...</td>\n",
       "      <td>[18, 66, 44, 153, 164]</td>\n",
       "    </tr>\n",
       "    <tr>\n",
       "      <th>4</th>\n",
       "      <td>5</td>\n",
       "      <td>https://contestimg.wish.com/api/webimage/54451...</td>\n",
       "      <td>[189, 66, 176, 137, 153, 74, 181, 171, 138]</td>\n",
       "    </tr>\n",
       "  </tbody>\n",
       "</table>\n",
       "</div>"
      ],
      "text/plain": [
       "   imageId                                                url  \\\n",
       "0        1  https://contestimg.wish.com/api/webimage/570f3...   \n",
       "1        2  https://contestimg.wish.com/api/webimage/5468f...   \n",
       "2        3  https://contestimg.wish.com/api/webimage/54641...   \n",
       "3        4  https://contestimg.wish.com/api/webimage/550b9...   \n",
       "4        5  https://contestimg.wish.com/api/webimage/54451...   \n",
       "\n",
       "                                       labelId  \n",
       "0                        [95, 66, 137, 70, 20]  \n",
       "1                  [36, 66, 44, 214, 105, 133]  \n",
       "2                 [170, 66, 97, 153, 105, 138]  \n",
       "3                       [18, 66, 44, 153, 164]  \n",
       "4  [189, 66, 176, 137, 153, 74, 181, 171, 138]  "
      ]
     },
     "execution_count": 81,
     "metadata": {},
     "output_type": "execute_result"
    }
   ],
   "source": [
    "train.head()\n"
   ]
  },
  {
   "cell_type": "code",
   "execution_count": 7,
   "metadata": {
    "colab": {
     "autoexec": {
      "startup": false,
      "wait_interval": 0
     },
     "base_uri": "https://localhost:8080/",
     "height": 36
    },
    "colab_type": "code",
    "executionInfo": {
     "elapsed": 876,
     "status": "ok",
     "timestamp": 1526275758776,
     "user": {
      "displayName": "YASH SHARAN",
      "photoUrl": "https://lh3.googleusercontent.com/a/default-user=s128",
      "userId": "116347204147724801866"
     },
     "user_tz": -330
    },
    "id": "PqpLYSQESVeI",
    "outputId": "54466896-2764-412b-864d-e5645007e1a0"
   },
   "outputs": [
    {
     "name": "stdout",
     "output_type": "stream",
     "text": [
      "Training dataset consists of 9752 images with 220 attributes\n"
     ]
    }
   ],
   "source": [
    "# Shape of training and test datasets\n",
    "print ('Training dataset consists of {} images with {} attributes'.format(train_label.shape[0], train_label.shape[1]-1))\n",
    "# Shape of training and test datasets\n",
    "#print ('Testing dataset consists of {} images.'.format(test.shape[0]))"
   ]
  },
  {
   "cell_type": "code",
   "execution_count": 88,
   "metadata": {
    "colab": {
     "autoexec": {
      "startup": false,
      "wait_interval": 0
     }
    },
    "colab_type": "code",
    "id": "6wQiWw-dePUE"
   },
   "outputs": [],
   "source": [
    "cols = list(train_label.columns)\n",
    "cols.sort()\n",
    "count_labels = train_label[cols].sum()"
   ]
  },
  {
   "cell_type": "code",
   "execution_count": 89,
   "metadata": {
    "colab": {
     "autoexec": {
      "startup": false,
      "wait_interval": 0
     }
    },
    "colab_type": "code",
    "id": "hgMr_H1Pgale"
   },
   "outputs": [],
   "source": [
    "import numpy as np\n",
    "import pandas as pd\n",
    "import seaborn as sns\n",
    "import matplotlib.pyplot as plt\n",
    "from sklearn.datasets import load_files\n",
    "from glob import glob\n",
    "%matplotlib inline"
   ]
  },
  {
   "cell_type": "code",
   "execution_count": 10,
   "metadata": {
    "colab": {
     "autoexec": {
      "startup": false,
      "wait_interval": 0
     },
     "base_uri": "https://localhost:8080/",
     "height": 622
    },
    "colab_type": "code",
    "executionInfo": {
     "elapsed": 3378,
     "status": "ok",
     "timestamp": 1526275767804,
     "user": {
      "displayName": "YASH SHARAN",
      "photoUrl": "https://lh3.googleusercontent.com/a/default-user=s128",
      "userId": "116347204147724801866"
     },
     "user_tz": -330
    },
    "id": "p0Dg-wCPgS7i",
    "outputId": "1a36052e-bfb8-47a1-ea0a-d006485cd4ed"
   },
   "outputs": [
    {
     "data": {
      "image/png": "[encoded data removed]",
      "text/plain": [
       "<matplotlib.figure.Figure at 0x7fa03c346d68>"
      ]
     },
     "metadata": {},
     "output_type": "display_data"
    }
   ],
   "source": [
    "plt.figure(figsize=(18, 8))\n",
    "ax = sns.barplot(x=count_labels.index, y=count_labels.values)\n",
    "ax.set_xticklabels(labels=count_labels.index,rotation=90, ha='right')\n",
    "ax.set_ylabel('Count')\n",
    "ax.set_xlabel('Attributes/ Labels')\n",
    "ax.title.set_text('Label/ Attribute distribution')\n",
    "plt.tight_layout()"
   ]
  },
  {
   "cell_type": "code",
   "execution_count": 11,
   "metadata": {
    "colab": {
     "autoexec": {
      "startup": false,
      "wait_interval": 0
     }
    },
    "colab_type": "code",
    "id": "gqmeAj1CgWCu"
   },
   "outputs": [],
   "source": [
    "TRAIN_PATH = '/home/yash/Desktop/Fashion prediction/train_file/'"
   ]
  },
  {
   "cell_type": "code",
   "execution_count": 40,
   "metadata": {
    "colab": {
     "autoexec": {
      "startup": false,
      "wait_interval": 0
     },
     "base_uri": "https://localhost:8080/",
     "height": 36
    },
    "colab_type": "code",
    "executionInfo": {
     "elapsed": 872,
     "status": "ok",
     "timestamp": 1526275774584,
     "user": {
      "displayName": "YASH SHARAN",
      "photoUrl": "https://lh3.googleusercontent.com/a/default-user=s128",
      "userId": "116347204147724801866"
     },
     "user_tz": -330
    },
    "id": "T7tr0y-QhCLS",
    "outputId": "463125f4-fc15-461b-ca82-840675a10885"
   },
   "outputs": [
    {
     "name": "stdout",
     "output_type": "stream",
     "text": [
      "/home/yash/Desktop/Fashion prediction/train_file//home/yash/Desktop/Fashion prediction/train_file/1\n"
     ]
    }
   ],
   "source": [
    "image_path=TRAIN_PATH+\"Image-\"+str(0)+\".jpg\"\n",
    "print(image_path)"
   ]
  },
  {
   "cell_type": "code",
   "execution_count": 41,
   "metadata": {
    "colab": {
     "autoexec": {
      "startup": false,
      "wait_interval": 0
     }
    },
    "colab_type": "code",
    "id": "YYBBPBfPhxsS"
   },
   "outputs": [],
   "source": [
    "from PIL import Image\n",
    "import cv2"
   ]
  },
  {
   "cell_type": "code",
   "execution_count": 42,
   "metadata": {
    "colab": {
     "autoexec": {
      "startup": false,
      "wait_interval": 0
     },
     "base_uri": "https://localhost:8080/",
     "height": 517
    },
    "colab_type": "code",
    "executionInfo": {
     "elapsed": 5720,
     "status": "ok",
     "timestamp": 1526275781906,
     "user": {
      "displayName": "YASH SHARAN",
      "photoUrl": "https://lh3.googleusercontent.com/a/default-user=s128",
      "userId": "116347204147724801866"
     },
     "user_tz": -330
    },
    "id": "92pQ5fprh5Lm",
    "outputId": "4bd0223a-ea83-43a6-ff64-62dfbff54807"
   },
   "outputs": [
    {
     "ename": "FileNotFoundError",
     "evalue": "[Errno 2] No such file or directory: '/home/yash/Desktop/Fashion prediction/train_file//home/yash/Desktop/Fashion prediction/train_file/1'",
     "output_type": "error",
     "traceback": [
      "\u001b[0;31m---------------------------------------------------------------------------\u001b[0m",
      "\u001b[0;31mFileNotFoundError\u001b[0m                         Traceback (most recent call last)",
      "\u001b[0;32m<ipython-input-42-5a74ec0a3832>\u001b[0m in \u001b[0;36m<module>\u001b[0;34m()\u001b[0m\n\u001b[0;32m----> 1\u001b[0;31m \u001b[0mImage\u001b[0m\u001b[0;34m.\u001b[0m\u001b[0mopen\u001b[0m\u001b[0;34m(\u001b[0m\u001b[0mimage_path\u001b[0m\u001b[0;34m)\u001b[0m\u001b[0;34m\u001b[0m\u001b[0m\n\u001b[0m",
      "\u001b[0;32m/usr/local/lib/python3.5/dist-packages/PIL/Image.py\u001b[0m in \u001b[0;36mopen\u001b[0;34m(fp, mode)\u001b[0m\n\u001b[1;32m   2546\u001b[0m \u001b[0;34m\u001b[0m\u001b[0m\n\u001b[1;32m   2547\u001b[0m     \u001b[0;32mif\u001b[0m \u001b[0mfilename\u001b[0m\u001b[0;34m:\u001b[0m\u001b[0;34m\u001b[0m\u001b[0m\n\u001b[0;32m-> 2548\u001b[0;31m         \u001b[0mfp\u001b[0m \u001b[0;34m=\u001b[0m \u001b[0mbuiltins\u001b[0m\u001b[0;34m.\u001b[0m\u001b[0mopen\u001b[0m\u001b[0;34m(\u001b[0m\u001b[0mfilename\u001b[0m\u001b[0;34m,\u001b[0m \u001b[0;34m\"rb\"\u001b[0m\u001b[0;34m)\u001b[0m\u001b[0;34m\u001b[0m\u001b[0m\n\u001b[0m\u001b[1;32m   2549\u001b[0m         \u001b[0mexclusive_fp\u001b[0m \u001b[0;34m=\u001b[0m \u001b[0;32mTrue\u001b[0m\u001b[0;34m\u001b[0m\u001b[0m\n\u001b[1;32m   2550\u001b[0m \u001b[0;34m\u001b[0m\u001b[0m\n",
      "\u001b[0;31mFileNotFoundError\u001b[0m: [Errno 2] No such file or directory: '/home/yash/Desktop/Fashion prediction/train_file//home/yash/Desktop/Fashion prediction/train_file/1'"
     ]
    }
   ],
   "source": [
    "Image.open(image_path)"
   ]
  },
  {
   "cell_type": "code",
   "execution_count": 38,
   "metadata": {
    "colab": {
     "autoexec": {
      "startup": false,
      "wait_interval": 0
     },
     "base_uri": "https://localhost:8080/",
     "height": 927
    },
    "colab_type": "code",
    "executionInfo": {
     "elapsed": 598,
     "status": "ok",
     "timestamp": 1526275785534,
     "user": {
      "displayName": "YASH SHARAN",
      "photoUrl": "https://lh3.googleusercontent.com/a/default-user=s128",
      "userId": "116347204147724801866"
     },
     "user_tz": -330
    },
    "id": "6C73bw7Yh7Jk",
    "outputId": "69a27eda-3ca8-4311-cd88-ceb6d7fc5f2c"
   },
   "outputs": [
    {
     "data": {
      "text/plain": [
       "array([[[230, 235, 244],\n",
       "        [230, 235, 244],\n",
       "        [230, 235, 244],\n",
       "        ...,\n",
       "        [208, 215, 224],\n",
       "        [208, 215, 224],\n",
       "        [208, 215, 224]],\n",
       "\n",
       "       [[230, 235, 244],\n",
       "        [230, 235, 244],\n",
       "        [230, 235, 244],\n",
       "        ...,\n",
       "        [207, 214, 223],\n",
       "        [207, 214, 223],\n",
       "        [207, 214, 223]],\n",
       "\n",
       "       [[230, 235, 244],\n",
       "        [230, 235, 244],\n",
       "        [230, 235, 244],\n",
       "        ...,\n",
       "        [206, 213, 222],\n",
       "        [206, 213, 222],\n",
       "        [206, 213, 222]],\n",
       "\n",
       "       ...,\n",
       "\n",
       "       [[ 98, 114, 143],\n",
       "        [ 93, 109, 138],\n",
       "        [ 97, 111, 140],\n",
       "        ...,\n",
       "        [ 73,  86, 118],\n",
       "        [ 68,  81, 113],\n",
       "        [ 67,  80, 112]],\n",
       "\n",
       "       [[ 98, 114, 143],\n",
       "        [ 93, 109, 138],\n",
       "        [ 97, 111, 140],\n",
       "        ...,\n",
       "        [ 77,  90, 122],\n",
       "        [ 70,  83, 115],\n",
       "        [ 66,  79, 111]],\n",
       "\n",
       "       [[ 98, 114, 143],\n",
       "        [ 93, 109, 138],\n",
       "        [ 97, 111, 140],\n",
       "        ...,\n",
       "        [ 81,  94, 126],\n",
       "        [ 72,  85, 117],\n",
       "        [ 68,  81, 113]]], dtype=uint8)"
      ]
     },
     "execution_count": 38,
     "metadata": {},
     "output_type": "execute_result"
    }
   ],
   "source": [
    "img = cv2.imread(image_path)\n",
    "img"
   ]
  },
  {
   "cell_type": "code",
   "execution_count": 39,
   "metadata": {
    "colab": {
     "autoexec": {
      "startup": false,
      "wait_interval": 0
     },
     "base_uri": "https://localhost:8080/",
     "height": 36
    },
    "colab_type": "code",
    "executionInfo": {
     "elapsed": 848,
     "status": "ok",
     "timestamp": 1526275788716,
     "user": {
      "displayName": "YASH SHARAN",
      "photoUrl": "https://lh3.googleusercontent.com/a/default-user=s128",
      "userId": "116347204147724801866"
     },
     "user_tz": -330
    },
    "id": "kmi3wMMIiUKy",
    "outputId": "01585e5e-b295-4b23-9f5e-6744ae27487d"
   },
   "outputs": [
    {
     "data": {
      "text/plain": [
       "(500, 500, 3)"
      ]
     },
     "execution_count": 39,
     "metadata": {},
     "output_type": "execute_result"
    }
   ],
   "source": [
    "img.shape"
   ]
  },
  {
   "cell_type": "code",
   "execution_count": 59,
   "metadata": {
    "colab": {
     "autoexec": {
      "startup": false,
      "wait_interval": 0
     },
     "base_uri": "https://localhost:8080/",
     "height": 110
    },
    "colab_type": "code",
    "executionInfo": {
     "elapsed": 3280,
     "status": "ok",
     "timestamp": 1526224514994,
     "user": {
      "displayName": "YASH SHARAN",
      "photoUrl": "https://lh3.googleusercontent.com/a/default-user=s128",
      "userId": "116347204147724801866"
     },
     "user_tz": -330
    },
    "id": "Aptzl3lrjEs8",
    "outputId": "e3425ea7-8a28-49ef-99ca-f5800c81c192"
   },
   "outputs": [
    {
     "name": "stdout",
     "output_type": "stream",
     "text": [
      "/home/yash/Desktop/Fashion prediction/train_file/Image-1.jpg\n"
     ]
    }
   ],
   "source": []
  },
  {
   "cell_type": "code",
   "execution_count": 61,
   "metadata": {
    "colab": {
     "autoexec": {
      "startup": false,
      "wait_interval": 0
     }
    },
    "colab_type": "code",
    "id": "yOhZo9obibkk"
   },
   "outputs": [],
   "source": [
    "\n"
   ]
  },
  {
   "cell_type": "code",
   "execution_count": null,
   "metadata": {
    "colab": {
     "autoexec": {
      "startup": false,
      "wait_interval": 0
     },
     "base_uri": "https://localhost:8080/",
     "height": 360
    },
    "colab_type": "code",
    "executionInfo": {
     "elapsed": 852,
     "status": "error",
     "timestamp": 1526225060956,
     "user": {
      "displayName": "YASH SHARAN",
      "photoUrl": "https://lh3.googleusercontent.com/a/default-user=s128",
      "userId": "116347204147724801866"
     },
     "user_tz": -330
    },
    "id": "hY6z_3bVjCHq",
    "outputId": "e1791cd4-b63f-4587-956c-820490e8ac3a"
   },
   "outputs": [],
   "source": []
  },
  {
   "cell_type": "code",
   "execution_count": 66,
   "metadata": {
    "colab": {
     "autoexec": {
      "startup": false,
      "wait_interval": 0
     },
     "base_uri": "https://localhost:8080/",
     "height": 248
    },
    "colab_type": "code",
    "executionInfo": {
     "elapsed": 712,
     "status": "error",
     "timestamp": 1526284424488,
     "user": {
      "displayName": "YASH SHARAN",
      "photoUrl": "https://lh3.googleusercontent.com/a/default-user=s128",
      "userId": "116347204147724801866"
     },
     "user_tz": -330
    },
    "id": "6dav6hKrHBoS",
    "outputId": "353654df-b559-474d-c589-36cc02f90aee"
   },
   "outputs": [
    {
     "name": "stdout",
     "output_type": "stream",
     "text": [
      "99.98974569319114574\r"
     ]
    }
   ],
   "source": [
    "train_img = []\n",
    "for i in range(0,9752):\n",
    "  img=cv2.imread(TRAIN_PATH+\"Image-\"+str(i)+\".jpg\")\n",
    "  img = cv2.resize(img, (64,64))\n",
    "  progress=(i/9752)*100\n",
    "  print(progress,end=\"\\r\")\n",
    "  \n",
    "  train_img.append(img)"
   ]
  },
  {
   "cell_type": "code",
   "execution_count": 67,
   "metadata": {
    "colab": {
     "autoexec": {
      "startup": false,
      "wait_interval": 0
     },
     "base_uri": "https://localhost:8080/",
     "height": 193
    },
    "colab_type": "code",
    "executionInfo": {
     "elapsed": 804,
     "status": "error",
     "timestamp": 1526284399906,
     "user": {
      "displayName": "YASH SHARAN",
      "photoUrl": "https://lh3.googleusercontent.com/a/default-user=s128",
      "userId": "116347204147724801866"
     },
     "user_tz": -330
    },
    "id": "_qRb_WBdjTfq",
    "outputId": "7567bece-d48a-47ea-998e-d140b1e2acc3"
   },
   "outputs": [],
   "source": [
    "import numpy as np\n",
    "X_train = np.array(train_img, np.float32) / 255."
   ]
  },
  {
   "cell_type": "code",
   "execution_count": 68,
   "metadata": {
    "colab": {
     "autoexec": {
      "startup": false,
      "wait_interval": 0
     },
     "base_uri": "https://localhost:8080/",
     "height": 203
    },
    "colab_type": "code",
    "executionInfo": {
     "elapsed": 5872,
     "status": "ok",
     "timestamp": 1526284410184,
     "user": {
      "displayName": "YASH SHARAN",
      "photoUrl": "https://lh3.googleusercontent.com/a/default-user=s128",
      "userId": "116347204147724801866"
     },
     "user_tz": -330
    },
    "id": "LZaPaJXUghMc",
    "outputId": "5f85003e-919b-459d-a451-35e2ad3bfba7"
   },
   "outputs": [
    {
     "name": "stdout",
     "output_type": "stream",
     "text": [
      "[[[230 235 244]\n",
      "  [231 236 245]\n",
      "  [230 234 245]\n",
      "  ...\n",
      "  [208 214 224]\n",
      "  [205 212 221]\n",
      "  [206 213 222]]\n",
      "\n",
      " [[230 235 244]\n",
      "  [231 236 245]\n",
      "  [229 233 244]\n",
      "  ...\n",
      "  [206 213 222]\n",
      "  [205 212 221]\n",
      "  [204 211 220]]\n",
      "\n",
      " [[233 235 245]\n",
      "  [232 234 244]\n",
      "  [228 233 242]\n",
      "  ...\n",
      "  [199 205 216]\n",
      "  [197 203 214]\n",
      "  [199 205 216]]\n",
      "\n",
      " ...\n",
      "\n",
      " [[ 98 113 145]\n",
      "  [ 89 106 140]\n",
      "  [ 95 109 141]\n",
      "  ...\n",
      "  [ 74  85 117]\n",
      "  [ 91 102 134]\n",
      "  [ 70  83 112]]\n",
      "\n",
      " [[ 95 112 142]\n",
      "  [ 90 109 142]\n",
      "  [106 125 160]\n",
      "  ...\n",
      "  [ 95 105 139]\n",
      "  [ 92 103 135]\n",
      "  [ 73  85 117]]\n",
      "\n",
      " [[ 96 110 141]\n",
      "  [ 94 110 143]\n",
      "  [111 127 164]\n",
      "  ...\n",
      "  [ 88 100 131]\n",
      "  [ 78  90 121]\n",
      "  [ 80  92 125]]]\n"
     ]
    }
   ],
   "source": [
    "print(train_img[0])"
   ]
  },
  {
   "cell_type": "code",
   "execution_count": 69,
   "metadata": {
    "colab": {
     "autoexec": {
      "startup": false,
      "wait_interval": 0
     }
    },
    "colab_type": "code",
    "id": "PEtQUvxssTuS"
   },
   "outputs": [
    {
     "data": {
      "text/plain": [
       "6773"
      ]
     },
     "execution_count": 69,
     "metadata": {},
     "output_type": "execute_result"
    }
   ],
   "source": [
    "import gc\n",
    "del train_img\n",
    "gc.collect()"
   ]
  },
  {
   "cell_type": "code",
   "execution_count": 70,
   "metadata": {},
   "outputs": [],
   "source": [
    "mean_img = X_train.mean(axis=0)"
   ]
  },
  {
   "cell_type": "code",
   "execution_count": 71,
   "metadata": {},
   "outputs": [],
   "source": [
    "std_dev = X_train.std(axis = 0)"
   ]
  },
  {
   "cell_type": "code",
   "execution_count": 72,
   "metadata": {},
   "outputs": [],
   "source": [
    "\n",
    "X_norm = (X_train - mean_img)/ std_dev\n",
    "\n"
   ]
  },
  {
   "cell_type": "code",
   "execution_count": 73,
   "metadata": {},
   "outputs": [
    {
     "data": {
      "text/plain": [
       "(9752, 64, 64, 3)"
      ]
     },
     "execution_count": 73,
     "metadata": {},
     "output_type": "execute_result"
    }
   ],
   "source": [
    "X_norm.shape"
   ]
  },
  {
   "cell_type": "code",
   "execution_count": 74,
   "metadata": {},
   "outputs": [
    {
     "data": {
      "text/plain": [
       "0"
      ]
     },
     "execution_count": 74,
     "metadata": {},
     "output_type": "execute_result"
    }
   ],
   "source": [
    "\n",
    "del X_train\n",
    "gc.collect()\n",
    "\n",
    "\n",
    "\n"
   ]
  },
  {
   "cell_type": "code",
   "execution_count": 90,
   "metadata": {},
   "outputs": [
    {
     "name": "stdout",
     "output_type": "stream",
     "text": [
      "      1  10  100  101  102  103  104  105  106  107 ...  9  90  91  92  93  \\\n",
      "0     0   0    0    0    0    0    0    0    0    0 ...  0   0   0   0   0   \n",
      "1     0   0    0    0    0    0    0    1    0    0 ...  0   0   0   0   0   \n",
      "2     0   0    0    0    0    0    0    1    0    0 ...  0   0   0   0   0   \n",
      "3     0   0    0    0    0    0    0    0    0    0 ...  0   0   0   0   0   \n",
      "4     0   0    0    0    0    0    0    0    0    0 ...  0   0   0   0   0   \n",
      "5     0   0    0    0    0    0    0    0    1    0 ...  0   0   0   0   0   \n",
      "6     0   0    0    0    0    0    0    0    0    0 ...  0   0   0   0   0   \n",
      "7     0   0    0    0    0    0    0    1    0    0 ...  0   0   0   0   0   \n",
      "8     0   0    0    0    0    0    0    1    0    0 ...  0   0   0   0   0   \n",
      "9     0   0    0    0    0    0    0    1    0    0 ...  0   0   1   0   0   \n",
      "10    0   0    0    0    0    0    0    0    0    0 ...  0   0   0   0   0   \n",
      "11    0   0    0    0    0    0    0    0    0    0 ...  0   0   0   0   0   \n",
      "12    0   0    0    0    0    0    0    0    0    0 ...  0   0   0   0   0   \n",
      "13    0   0    0    0    0    0    0    0    0    0 ...  0   0   0   0   0   \n",
      "14    0   0    0    0    0    0    0    0    0    0 ...  0   0   0   0   0   \n",
      "15    0   0    0    0    0    0    0    1    1    0 ...  0   0   1   0   0   \n",
      "16    0   0    0    0    0    0    0    0    0    0 ...  0   0   0   0   0   \n",
      "17    0   0    0    0    0    0    0    1    0    0 ...  0   0   0   0   0   \n",
      "18    0   0    0    0    0    0    0    1    0    0 ...  0   0   0   0   0   \n",
      "19    0   0    0    0    0    0    0    0    0    0 ...  0   0   0   0   0   \n",
      "20    0   0    0    0    0    0    0    0    0    0 ...  0   0   0   0   0   \n",
      "21    0   0    0    0    0    0    0    1    0    0 ...  0   0   0   0   0   \n",
      "22    0   0    0    0    0    0    0    1    0    0 ...  0   0   0   0   0   \n",
      "23    0   0    0    0    0    0    0    0    0    0 ...  0   0   0   0   0   \n",
      "24    0   0    0    0    0    0    0    1    0    0 ...  0   0   0   0   0   \n",
      "25    0   0    0    0    0    0    0    1    1    0 ...  0   0   0   0   0   \n",
      "26    0   0    0    0    0    0    0    0    0    0 ...  0   0   0   0   0   \n",
      "27    0   0    0    1    0    0    0    0    0    0 ...  0   0   0   0   0   \n",
      "28    0   0    0    0    0    0    0    1    1    0 ...  0   0   0   0   0   \n",
      "29    0   0    0    0    0    0    0    0    0    0 ...  0   0   0   0   0   \n",
      "...  ..  ..  ...  ...  ...  ...  ...  ...  ...  ... ... ..  ..  ..  ..  ..   \n",
      "9722  0   0    0    0    0    0    0    0    0    0 ...  0   0   0   0   0   \n",
      "9723  0   0    0    0    0    0    0    0    0    0 ...  0   0   0   0   0   \n",
      "9724  0   0    0    0    0    0    0    0    0    0 ...  0   0   1   0   0   \n",
      "9725  0   0    0    0    0    0    0    0    0    0 ...  0   0   0   0   0   \n",
      "9726  0   0    0    0    1    0    0    0    1    0 ...  0   0   0   0   0   \n",
      "9727  0   0    0    0    0    0    0    0    0    0 ...  0   0   0   1   0   \n",
      "9728  0   0    0    0    0    0    0    0    0    0 ...  0   0   0   0   0   \n",
      "9729  0   0    0    0    0    0    0    0    0    0 ...  0   0   0   0   0   \n",
      "9730  0   0    0    0    0    0    0    0    1    0 ...  0   0   0   0   0   \n",
      "9731  0   0    0    0    0    0    0    0    0    0 ...  0   0   0   0   0   \n",
      "9732  0   0    0    0    0    0    0    0    0    0 ...  0   0   0   0   0   \n",
      "9733  0   0    0    0    0    0    0    0    1    0 ...  0   0   0   0   0   \n",
      "9734  0   0    0    0    0    0    0    0    0    0 ...  0   0   0   0   0   \n",
      "9735  0   0    0    0    0    0    0    1    1    0 ...  0   0   0   0   0   \n",
      "9736  0   0    0    0    0    0    0    0    0    0 ...  0   0   0   0   0   \n",
      "9737  0   0    0    0    0    0    0    1    1    0 ...  0   0   0   0   0   \n",
      "9738  0   0    0    0    0    0    0    0    0    0 ...  0   0   0   0   0   \n",
      "9739  0   0    0    0    0    0    0    0    0    0 ...  0   0   0   0   0   \n",
      "9740  0   0    0    0    0    0    0    0    0    0 ...  0   0   0   0   0   \n",
      "9741  0   0    0    0    0    0    0    0    0    0 ...  0   0   0   0   0   \n",
      "9742  0   0    0    0    0    0    0    1    0    0 ...  0   0   0   0   0   \n",
      "9743  0   0    0    0    0    0    0    0    1    0 ...  0   0   0   0   0   \n",
      "9744  0   0    0    0    0    0    0    0    1    0 ...  0   0   0   0   0   \n",
      "9745  0   0    0    0    0    0    0    0    0    0 ...  0   0   0   0   0   \n",
      "9746  0   0    0    0    0    0    0    0    0    0 ...  0   0   0   0   0   \n",
      "9747  0   0    0    0    0    0    0    0    0    0 ...  0   0   0   0   0   \n",
      "9748  0   0    0    0    0    0    0    1    0    0 ...  0   0   0   0   0   \n",
      "9749  0   0    0    0    0    0    0    0    0    0 ...  0   0   0   0   0   \n",
      "9750  0   0    0    0    0    0    0    0    1    0 ...  0   0   0   0   0   \n",
      "9751  0   0    0    0    0    0    0    0    0    0 ...  0   0   0   0   0   \n",
      "\n",
      "      95  96  97  98  99  \n",
      "0      1   0   0   0   0  \n",
      "1      0   0   0   0   0  \n",
      "2      0   0   1   0   0  \n",
      "3      0   0   0   0   0  \n",
      "4      0   0   0   0   0  \n",
      "5      0   0   0   0   0  \n",
      "6      0   0   0   0   0  \n",
      "7      0   0   0   1   0  \n",
      "8      0   0   1   0   0  \n",
      "9      0   0   0   0   0  \n",
      "10     0   0   0   0   0  \n",
      "11     0   0   0   0   0  \n",
      "12     0   0   0   0   0  \n",
      "13     0   0   0   0   0  \n",
      "14     0   0   0   0   0  \n",
      "15     0   0   0   0   0  \n",
      "16     0   0   0   0   0  \n",
      "17     0   0   0   0   0  \n",
      "18     0   0   0   0   0  \n",
      "19     0   0   0   0   0  \n",
      "20     0   0   0   0   1  \n",
      "21     0   0   1   0   0  \n",
      "22     0   0   0   0   0  \n",
      "23     0   0   0   0   0  \n",
      "24     0   0   0   0   0  \n",
      "25     0   0   0   0   0  \n",
      "26     0   0   0   0   0  \n",
      "27     0   0   0   0   0  \n",
      "28     0   0   0   0   0  \n",
      "29     0   0   0   0   0  \n",
      "...   ..  ..  ..  ..  ..  \n",
      "9722   0   0   0   1   0  \n",
      "9723   0   0   0   0   0  \n",
      "9724   0   0   0   0   1  \n",
      "9725   0   1   0   1   0  \n",
      "9726   0   0   0   0   0  \n",
      "9727   0   0   0   0   0  \n",
      "9728   0   0   0   0   0  \n",
      "9729   0   0   0   0   1  \n",
      "9730   0   0   0   0   0  \n",
      "9731   0   0   0   0   0  \n",
      "9732   0   0   0   0   0  \n",
      "9733   0   0   0   0   0  \n",
      "9734   0   0   0   0   0  \n",
      "9735   0   0   0   0   0  \n",
      "9736   0   0   0   0   0  \n",
      "9737   0   0   0   0   0  \n",
      "9738   0   0   0   0   0  \n",
      "9739   0   0   0   0   0  \n",
      "9740   0   0   0   0   0  \n",
      "9741   0   0   0   0   0  \n",
      "9742   0   0   0   0   0  \n",
      "9743   0   0   0   0   0  \n",
      "9744   0   0   0   0   0  \n",
      "9745   0   0   0   1   0  \n",
      "9746   0   0   0   0   0  \n",
      "9747   0   0   0   0   0  \n",
      "9748   0   0   0   0   0  \n",
      "9749   0   0   0   0   0  \n",
      "9750   0   0   0   0   0  \n",
      "9751   0   0   0   0   0  \n",
      "\n",
      "[9752 rows x 221 columns]\n"
     ]
    }
   ],
   "source": [
    "print(train_label)"
   ]
  },
  {
   "cell_type": "code",
   "execution_count": 91,
   "metadata": {},
   "outputs": [],
   "source": [
    "\n",
    "y = train_label\n",
    "\n"
   ]
  },
  {
   "cell_type": "code",
   "execution_count": 92,
   "metadata": {},
   "outputs": [
    {
     "name": "stdout",
     "output_type": "stream",
     "text": [
      "      1  10  100  101  102  103  104  105  106  107 ...  9  90  91  92  93  \\\n",
      "0     0   0    0    0    0    0    0    0    0    0 ...  0   0   0   0   0   \n",
      "1     0   0    0    0    0    0    0    1    0    0 ...  0   0   0   0   0   \n",
      "2     0   0    0    0    0    0    0    1    0    0 ...  0   0   0   0   0   \n",
      "3     0   0    0    0    0    0    0    0    0    0 ...  0   0   0   0   0   \n",
      "4     0   0    0    0    0    0    0    0    0    0 ...  0   0   0   0   0   \n",
      "5     0   0    0    0    0    0    0    0    1    0 ...  0   0   0   0   0   \n",
      "6     0   0    0    0    0    0    0    0    0    0 ...  0   0   0   0   0   \n",
      "7     0   0    0    0    0    0    0    1    0    0 ...  0   0   0   0   0   \n",
      "8     0   0    0    0    0    0    0    1    0    0 ...  0   0   0   0   0   \n",
      "9     0   0    0    0    0    0    0    1    0    0 ...  0   0   1   0   0   \n",
      "10    0   0    0    0    0    0    0    0    0    0 ...  0   0   0   0   0   \n",
      "11    0   0    0    0    0    0    0    0    0    0 ...  0   0   0   0   0   \n",
      "12    0   0    0    0    0    0    0    0    0    0 ...  0   0   0   0   0   \n",
      "13    0   0    0    0    0    0    0    0    0    0 ...  0   0   0   0   0   \n",
      "14    0   0    0    0    0    0    0    0    0    0 ...  0   0   0   0   0   \n",
      "15    0   0    0    0    0    0    0    1    1    0 ...  0   0   1   0   0   \n",
      "16    0   0    0    0    0    0    0    0    0    0 ...  0   0   0   0   0   \n",
      "17    0   0    0    0    0    0    0    1    0    0 ...  0   0   0   0   0   \n",
      "18    0   0    0    0    0    0    0    1    0    0 ...  0   0   0   0   0   \n",
      "19    0   0    0    0    0    0    0    0    0    0 ...  0   0   0   0   0   \n",
      "20    0   0    0    0    0    0    0    0    0    0 ...  0   0   0   0   0   \n",
      "21    0   0    0    0    0    0    0    1    0    0 ...  0   0   0   0   0   \n",
      "22    0   0    0    0    0    0    0    1    0    0 ...  0   0   0   0   0   \n",
      "23    0   0    0    0    0    0    0    0    0    0 ...  0   0   0   0   0   \n",
      "24    0   0    0    0    0    0    0    1    0    0 ...  0   0   0   0   0   \n",
      "25    0   0    0    0    0    0    0    1    1    0 ...  0   0   0   0   0   \n",
      "26    0   0    0    0    0    0    0    0    0    0 ...  0   0   0   0   0   \n",
      "27    0   0    0    1    0    0    0    0    0    0 ...  0   0   0   0   0   \n",
      "28    0   0    0    0    0    0    0    1    1    0 ...  0   0   0   0   0   \n",
      "29    0   0    0    0    0    0    0    0    0    0 ...  0   0   0   0   0   \n",
      "...  ..  ..  ...  ...  ...  ...  ...  ...  ...  ... ... ..  ..  ..  ..  ..   \n",
      "9722  0   0    0    0    0    0    0    0    0    0 ...  0   0   0   0   0   \n",
      "9723  0   0    0    0    0    0    0    0    0    0 ...  0   0   0   0   0   \n",
      "9724  0   0    0    0    0    0    0    0    0    0 ...  0   0   1   0   0   \n",
      "9725  0   0    0    0    0    0    0    0    0    0 ...  0   0   0   0   0   \n",
      "9726  0   0    0    0    1    0    0    0    1    0 ...  0   0   0   0   0   \n",
      "9727  0   0    0    0    0    0    0    0    0    0 ...  0   0   0   1   0   \n",
      "9728  0   0    0    0    0    0    0    0    0    0 ...  0   0   0   0   0   \n",
      "9729  0   0    0    0    0    0    0    0    0    0 ...  0   0   0   0   0   \n",
      "9730  0   0    0    0    0    0    0    0    1    0 ...  0   0   0   0   0   \n",
      "9731  0   0    0    0    0    0    0    0    0    0 ...  0   0   0   0   0   \n",
      "9732  0   0    0    0    0    0    0    0    0    0 ...  0   0   0   0   0   \n",
      "9733  0   0    0    0    0    0    0    0    1    0 ...  0   0   0   0   0   \n",
      "9734  0   0    0    0    0    0    0    0    0    0 ...  0   0   0   0   0   \n",
      "9735  0   0    0    0    0    0    0    1    1    0 ...  0   0   0   0   0   \n",
      "9736  0   0    0    0    0    0    0    0    0    0 ...  0   0   0   0   0   \n",
      "9737  0   0    0    0    0    0    0    1    1    0 ...  0   0   0   0   0   \n",
      "9738  0   0    0    0    0    0    0    0    0    0 ...  0   0   0   0   0   \n",
      "9739  0   0    0    0    0    0    0    0    0    0 ...  0   0   0   0   0   \n",
      "9740  0   0    0    0    0    0    0    0    0    0 ...  0   0   0   0   0   \n",
      "9741  0   0    0    0    0    0    0    0    0    0 ...  0   0   0   0   0   \n",
      "9742  0   0    0    0    0    0    0    1    0    0 ...  0   0   0   0   0   \n",
      "9743  0   0    0    0    0    0    0    0    1    0 ...  0   0   0   0   0   \n",
      "9744  0   0    0    0    0    0    0    0    1    0 ...  0   0   0   0   0   \n",
      "9745  0   0    0    0    0    0    0    0    0    0 ...  0   0   0   0   0   \n",
      "9746  0   0    0    0    0    0    0    0    0    0 ...  0   0   0   0   0   \n",
      "9747  0   0    0    0    0    0    0    0    0    0 ...  0   0   0   0   0   \n",
      "9748  0   0    0    0    0    0    0    1    0    0 ...  0   0   0   0   0   \n",
      "9749  0   0    0    0    0    0    0    0    0    0 ...  0   0   0   0   0   \n",
      "9750  0   0    0    0    0    0    0    0    1    0 ...  0   0   0   0   0   \n",
      "9751  0   0    0    0    0    0    0    0    0    0 ...  0   0   0   0   0   \n",
      "\n",
      "      95  96  97  98  99  \n",
      "0      1   0   0   0   0  \n",
      "1      0   0   0   0   0  \n",
      "2      0   0   1   0   0  \n",
      "3      0   0   0   0   0  \n",
      "4      0   0   0   0   0  \n",
      "5      0   0   0   0   0  \n",
      "6      0   0   0   0   0  \n",
      "7      0   0   0   1   0  \n",
      "8      0   0   1   0   0  \n",
      "9      0   0   0   0   0  \n",
      "10     0   0   0   0   0  \n",
      "11     0   0   0   0   0  \n",
      "12     0   0   0   0   0  \n",
      "13     0   0   0   0   0  \n",
      "14     0   0   0   0   0  \n",
      "15     0   0   0   0   0  \n",
      "16     0   0   0   0   0  \n",
      "17     0   0   0   0   0  \n",
      "18     0   0   0   0   0  \n",
      "19     0   0   0   0   0  \n",
      "20     0   0   0   0   1  \n",
      "21     0   0   1   0   0  \n",
      "22     0   0   0   0   0  \n",
      "23     0   0   0   0   0  \n",
      "24     0   0   0   0   0  \n",
      "25     0   0   0   0   0  \n",
      "26     0   0   0   0   0  \n",
      "27     0   0   0   0   0  \n",
      "28     0   0   0   0   0  \n",
      "29     0   0   0   0   0  \n",
      "...   ..  ..  ..  ..  ..  \n",
      "9722   0   0   0   1   0  \n",
      "9723   0   0   0   0   0  \n",
      "9724   0   0   0   0   1  \n",
      "9725   0   1   0   1   0  \n",
      "9726   0   0   0   0   0  \n",
      "9727   0   0   0   0   0  \n",
      "9728   0   0   0   0   0  \n",
      "9729   0   0   0   0   1  \n",
      "9730   0   0   0   0   0  \n",
      "9731   0   0   0   0   0  \n",
      "9732   0   0   0   0   0  \n",
      "9733   0   0   0   0   0  \n",
      "9734   0   0   0   0   0  \n",
      "9735   0   0   0   0   0  \n",
      "9736   0   0   0   0   0  \n",
      "9737   0   0   0   0   0  \n",
      "9738   0   0   0   0   0  \n",
      "9739   0   0   0   0   0  \n",
      "9740   0   0   0   0   0  \n",
      "9741   0   0   0   0   0  \n",
      "9742   0   0   0   0   0  \n",
      "9743   0   0   0   0   0  \n",
      "9744   0   0   0   0   0  \n",
      "9745   0   0   0   1   0  \n",
      "9746   0   0   0   0   0  \n",
      "9747   0   0   0   0   0  \n",
      "9748   0   0   0   0   0  \n",
      "9749   0   0   0   0   0  \n",
      "9750   0   0   0   0   0  \n",
      "9751   0   0   0   0   0  \n",
      "\n",
      "[9752 rows x 221 columns]\n"
     ]
    }
   ],
   "source": [
    "print(y)"
   ]
  },
  {
   "cell_type": "code",
   "execution_count": 93,
   "metadata": {},
   "outputs": [],
   "source": [
    "from sklearn.model_selection import train_test_split\n",
    "from sklearn.metrics import f1_score"
   ]
  },
  {
   "cell_type": "code",
   "execution_count": 94,
   "metadata": {},
   "outputs": [],
   "source": [
    "Xtrain, Xvalid, ytrain, yvalid = train_test_split(X_norm, y, test_size=0.25, random_state=47)"
   ]
  },
  {
   "cell_type": "code",
   "execution_count": 95,
   "metadata": {},
   "outputs": [
    {
     "data": {
      "text/plain": [
       "129"
      ]
     },
     "execution_count": 95,
     "metadata": {},
     "output_type": "execute_result"
    }
   ],
   "source": [
    "del X_norm\n",
    "gc.collect()"
   ]
  },
  {
   "cell_type": "code",
   "execution_count": 96,
   "metadata": {},
   "outputs": [
    {
     "name": "stderr",
     "output_type": "stream",
     "text": [
      "/usr/local/lib/python3.5/dist-packages/h5py/__init__.py:36: FutureWarning: Conversion of the second argument of issubdtype from `float` to `np.floating` is deprecated. In future, it will be treated as `np.float64 == np.dtype(float).type`.\n",
      "  from ._conv import register_converters as _register_converters\n",
      "Using TensorFlow backend.\n"
     ]
    }
   ],
   "source": [
    "from keras.models import Sequential\n",
    "from keras.layers import Dense, Dropout, Flatten, Conv2D, MaxPooling2D, BatchNormalization\n",
    "from keras.callbacks import EarlyStopping, ModelCheckpoint\n"
   ]
  },
  {
   "cell_type": "code",
   "execution_count": 97,
   "metadata": {},
   "outputs": [
    {
     "data": {
      "text/plain": [
       "0"
      ]
     },
     "execution_count": 97,
     "metadata": {},
     "output_type": "execute_result"
    }
   ],
   "source": [
    "gc.collect()"
   ]
  },
  {
   "cell_type": "code",
   "execution_count": 98,
   "metadata": {},
   "outputs": [],
   "source": [
    "model = Sequential()\n",
    "model.add(BatchNormalization(input_shape=Xtrain.shape[1:]))\n",
    "model.add(Conv2D(32, kernel_size=(3, 3), activation= 'relu',padding= 'same'))\n",
    "model.add(Conv2D(32, kernel_size=(3, 3), activation= 'relu'))\n",
    "model.add(MaxPooling2D(pool_size=(3,3)))\n",
    "model.add(Dropout(0.3))\n",
    "\n",
    "model.add(Conv2D(64, kernel_size=(3, 3), activation= 'relu', padding='same'))\n",
    "model.add(Conv2D(64, kernel_size=(3, 3), activation= 'relu'))\n",
    "model.add(MaxPooling2D(pool_size=(3,3)))\n",
    "model.add(Dropout(0.25))\n",
    "\n",
    "model.add(Conv2D(128, kernel_size=(3, 3), activation= 'relu', padding='same'))\n",
    "model.add(Conv2D(128, kernel_size=(3, 3), activation= 'relu'))\n",
    "model.add(MaxPooling2D(pool_size=(3,3)))\n",
    "model.add(Dropout(0.25))\n",
    "\n",
    "model.add(Flatten())\n",
    "model.add(Dropout(0.5))\n",
    "model.add(Dense(221, activation='sigmoid'))"
   ]
  },
  {
   "cell_type": "code",
   "execution_count": 99,
   "metadata": {},
   "outputs": [
    {
     "name": "stdout",
     "output_type": "stream",
     "text": [
      "_________________________________________________________________\n",
      "Layer (type)                 Output Shape              Param #   \n",
      "=================================================================\n",
      "batch_normalization_1 (Batch (None, 64, 64, 3)         12        \n",
      "_________________________________________________________________\n",
      "conv2d_1 (Conv2D)            (None, 64, 64, 32)        896       \n",
      "_________________________________________________________________\n",
      "conv2d_2 (Conv2D)            (None, 62, 62, 32)        9248      \n",
      "_________________________________________________________________\n",
      "max_pooling2d_1 (MaxPooling2 (None, 20, 20, 32)        0         \n",
      "_________________________________________________________________\n",
      "dropout_1 (Dropout)          (None, 20, 20, 32)        0         \n",
      "_________________________________________________________________\n",
      "conv2d_3 (Conv2D)            (None, 20, 20, 64)        18496     \n",
      "_________________________________________________________________\n",
      "conv2d_4 (Conv2D)            (None, 18, 18, 64)        36928     \n",
      "_________________________________________________________________\n",
      "max_pooling2d_2 (MaxPooling2 (None, 6, 6, 64)          0         \n",
      "_________________________________________________________________\n",
      "dropout_2 (Dropout)          (None, 6, 6, 64)          0         \n",
      "_________________________________________________________________\n",
      "conv2d_5 (Conv2D)            (None, 6, 6, 128)         73856     \n",
      "_________________________________________________________________\n",
      "conv2d_6 (Conv2D)            (None, 4, 4, 128)         147584    \n",
      "_________________________________________________________________\n",
      "max_pooling2d_3 (MaxPooling2 (None, 1, 1, 128)         0         \n",
      "_________________________________________________________________\n",
      "dropout_3 (Dropout)          (None, 1, 1, 128)         0         \n",
      "_________________________________________________________________\n",
      "flatten_1 (Flatten)          (None, 128)               0         \n",
      "_________________________________________________________________\n",
      "dropout_4 (Dropout)          (None, 128)               0         \n",
      "_________________________________________________________________\n",
      "dense_1 (Dense)              (None, 221)               28509     \n",
      "=================================================================\n",
      "Total params: 315,529\n",
      "Trainable params: 315,523\n",
      "Non-trainable params: 6\n",
      "_________________________________________________________________\n"
     ]
    }
   ],
   "source": [
    "model.summary()"
   ]
  },
  {
   "cell_type": "code",
   "execution_count": 100,
   "metadata": {},
   "outputs": [],
   "source": [
    "model.compile(loss='binary_crossentropy', optimizer='adam', metrics=['accuracy'])"
   ]
  },
  {
   "cell_type": "code",
   "execution_count": 101,
   "metadata": {},
   "outputs": [],
   "source": [
    "early_stops = EarlyStopping(patience=3, monitor='val_acc')\n",
    "checkpointer = ModelCheckpoint(filepath='weights.best.eda.hdf5', verbose=1, save_best_only=True)"
   ]
  },
  {
   "cell_type": "code",
   "execution_count": 103,
   "metadata": {},
   "outputs": [
    {
     "name": "stdout",
     "output_type": "stream",
     "text": [
      "Train on 7314 samples, validate on 2438 samples\n",
      "Epoch 1/60\n",
      "7314/7314 [==============================] - 6s 843us/step - loss: 0.0909 - acc: 0.9761 - val_loss: 0.0860 - val_acc: 0.9759\n",
      "\n",
      "Epoch 00001: val_loss improved from 0.08611 to 0.08601, saving model to weights.best.eda.hdf5\n",
      "Epoch 2/60\n",
      "7314/7314 [==============================] - 6s 780us/step - loss: 0.0902 - acc: 0.9761 - val_loss: 0.0862 - val_acc: 0.9759\n",
      "\n",
      "Epoch 00002: val_loss did not improve from 0.08601\n",
      "Epoch 3/60\n",
      "7314/7314 [==============================] - 6s 783us/step - loss: 0.0900 - acc: 0.9761 - val_loss: 0.0860 - val_acc: 0.9759\n",
      "\n",
      "Epoch 00003: val_loss did not improve from 0.08601\n",
      "Epoch 4/60\n",
      "7314/7314 [==============================] - 6s 774us/step - loss: 0.0896 - acc: 0.9761 - val_loss: 0.0853 - val_acc: 0.9760\n",
      "\n",
      "Epoch 00004: val_loss improved from 0.08601 to 0.08535, saving model to weights.best.eda.hdf5\n",
      "Epoch 5/60\n",
      "7314/7314 [==============================] - 6s 784us/step - loss: 0.0888 - acc: 0.9763 - val_loss: 0.0849 - val_acc: 0.9760\n",
      "\n",
      "Epoch 00005: val_loss improved from 0.08535 to 0.08488, saving model to weights.best.eda.hdf5\n",
      "Epoch 6/60\n",
      "7314/7314 [==============================] - 6s 770us/step - loss: 0.0880 - acc: 0.9765 - val_loss: 0.0838 - val_acc: 0.9765\n",
      "\n",
      "Epoch 00006: val_loss improved from 0.08488 to 0.08384, saving model to weights.best.eda.hdf5\n",
      "Epoch 7/60\n",
      "7314/7314 [==============================] - 6s 780us/step - loss: 0.0874 - acc: 0.9766 - val_loss: 0.0833 - val_acc: 0.9766\n",
      "\n",
      "Epoch 00007: val_loss improved from 0.08384 to 0.08331, saving model to weights.best.eda.hdf5\n",
      "Epoch 8/60\n",
      "7314/7314 [==============================] - 6s 774us/step - loss: 0.0869 - acc: 0.9767 - val_loss: 0.0832 - val_acc: 0.9766\n",
      "\n",
      "Epoch 00008: val_loss improved from 0.08331 to 0.08325, saving model to weights.best.eda.hdf5\n",
      "Epoch 9/60\n",
      "7314/7314 [==============================] - 6s 772us/step - loss: 0.0867 - acc: 0.9767 - val_loss: 0.0838 - val_acc: 0.9765\n",
      "\n",
      "Epoch 00009: val_loss did not improve from 0.08325\n",
      "Epoch 10/60\n",
      "7314/7314 [==============================] - 6s 778us/step - loss: 0.0863 - acc: 0.9768 - val_loss: 0.0823 - val_acc: 0.9767\n",
      "\n",
      "Epoch 00010: val_loss improved from 0.08325 to 0.08230, saving model to weights.best.eda.hdf5\n",
      "Epoch 11/60\n",
      "7314/7314 [==============================] - 6s 776us/step - loss: 0.0857 - acc: 0.9768 - val_loss: 0.0822 - val_acc: 0.9767\n",
      "\n",
      "Epoch 00011: val_loss improved from 0.08230 to 0.08222, saving model to weights.best.eda.hdf5\n",
      "Epoch 12/60\n",
      "7314/7314 [==============================] - 6s 782us/step - loss: 0.0853 - acc: 0.9768 - val_loss: 0.0824 - val_acc: 0.9767\n",
      "\n",
      "Epoch 00012: val_loss did not improve from 0.08222\n",
      "Epoch 13/60\n",
      "7314/7314 [==============================] - 6s 780us/step - loss: 0.0851 - acc: 0.9769 - val_loss: 0.0818 - val_acc: 0.9767\n",
      "\n",
      "Epoch 00013: val_loss improved from 0.08222 to 0.08179, saving model to weights.best.eda.hdf5\n",
      "Epoch 14/60\n",
      "7314/7314 [==============================] - 6s 772us/step - loss: 0.0850 - acc: 0.9769 - val_loss: 0.0814 - val_acc: 0.9768\n",
      "\n",
      "Epoch 00014: val_loss improved from 0.08179 to 0.08136, saving model to weights.best.eda.hdf5\n",
      "Epoch 15/60\n",
      "7314/7314 [==============================] - 6s 777us/step - loss: 0.0848 - acc: 0.9769 - val_loss: 0.0815 - val_acc: 0.9767\n",
      "\n",
      "Epoch 00015: val_loss did not improve from 0.08136\n",
      "Epoch 16/60\n",
      "7314/7314 [==============================] - 6s 772us/step - loss: 0.0844 - acc: 0.9770 - val_loss: 0.0819 - val_acc: 0.9767\n",
      "\n",
      "Epoch 00016: val_loss did not improve from 0.08136\n",
      "Epoch 17/60\n",
      "7314/7314 [==============================] - 6s 780us/step - loss: 0.0844 - acc: 0.9770 - val_loss: 0.0809 - val_acc: 0.9768\n",
      "\n",
      "Epoch 00017: val_loss improved from 0.08136 to 0.08089, saving model to weights.best.eda.hdf5\n",
      "Epoch 18/60\n",
      "7314/7314 [==============================] - 6s 766us/step - loss: 0.0837 - acc: 0.9770 - val_loss: 0.0809 - val_acc: 0.9768\n",
      "\n",
      "Epoch 00018: val_loss did not improve from 0.08089\n",
      "Epoch 19/60\n",
      "7314/7314 [==============================] - 6s 777us/step - loss: 0.0835 - acc: 0.9771 - val_loss: 0.0804 - val_acc: 0.9768\n",
      "\n",
      "Epoch 00019: val_loss improved from 0.08089 to 0.08035, saving model to weights.best.eda.hdf5\n",
      "Epoch 20/60\n",
      "7314/7314 [==============================] - 6s 762us/step - loss: 0.0828 - acc: 0.9771 - val_loss: 0.0805 - val_acc: 0.9769\n",
      "\n",
      "Epoch 00020: val_loss did not improve from 0.08035\n",
      "Epoch 21/60\n",
      "7314/7314 [==============================] - 6s 791us/step - loss: 0.0825 - acc: 0.9772 - val_loss: 0.0791 - val_acc: 0.9770\n",
      "\n",
      "Epoch 00021: val_loss improved from 0.08035 to 0.07907, saving model to weights.best.eda.hdf5\n",
      "Epoch 22/60\n",
      "7314/7314 [==============================] - 6s 774us/step - loss: 0.0819 - acc: 0.9773 - val_loss: 0.0789 - val_acc: 0.9770\n",
      "\n",
      "Epoch 00022: val_loss improved from 0.07907 to 0.07894, saving model to weights.best.eda.hdf5\n",
      "Epoch 23/60\n",
      "7314/7314 [==============================] - 6s 767us/step - loss: 0.0814 - acc: 0.9773 - val_loss: 0.0787 - val_acc: 0.9771\n",
      "\n",
      "Epoch 00023: val_loss improved from 0.07894 to 0.07869, saving model to weights.best.eda.hdf5\n",
      "Epoch 24/60\n",
      "7314/7314 [==============================] - 6s 765us/step - loss: 0.0806 - acc: 0.9774 - val_loss: 0.0786 - val_acc: 0.9772\n",
      "\n",
      "Epoch 00024: val_loss improved from 0.07869 to 0.07861, saving model to weights.best.eda.hdf5\n",
      "Epoch 25/60\n",
      "7314/7314 [==============================] - 6s 769us/step - loss: 0.0804 - acc: 0.9774 - val_loss: 0.0777 - val_acc: 0.9773\n",
      "\n",
      "Epoch 00025: val_loss improved from 0.07861 to 0.07769, saving model to weights.best.eda.hdf5\n",
      "Epoch 26/60\n",
      "7314/7314 [==============================] - 6s 764us/step - loss: 0.0798 - acc: 0.9775 - val_loss: 0.0774 - val_acc: 0.9773\n",
      "\n",
      "Epoch 00026: val_loss improved from 0.07769 to 0.07737, saving model to weights.best.eda.hdf5\n",
      "Epoch 27/60\n",
      "7314/7314 [==============================] - 6s 777us/step - loss: 0.0791 - acc: 0.9777 - val_loss: 0.0772 - val_acc: 0.9774\n",
      "\n",
      "Epoch 00027: val_loss improved from 0.07737 to 0.07718, saving model to weights.best.eda.hdf5\n",
      "Epoch 28/60\n",
      "7314/7314 [==============================] - 6s 765us/step - loss: 0.0789 - acc: 0.9777 - val_loss: 0.0772 - val_acc: 0.9775\n",
      "\n",
      "Epoch 00028: val_loss improved from 0.07718 to 0.07717, saving model to weights.best.eda.hdf5\n",
      "Epoch 29/60\n",
      "7314/7314 [==============================] - 6s 762us/step - loss: 0.0785 - acc: 0.9777 - val_loss: 0.0768 - val_acc: 0.9775\n",
      "\n",
      "Epoch 00029: val_loss improved from 0.07717 to 0.07677, saving model to weights.best.eda.hdf5\n",
      "Epoch 30/60\n",
      "7314/7314 [==============================] - 6s 761us/step - loss: 0.0779 - acc: 0.9778 - val_loss: 0.0768 - val_acc: 0.9775\n",
      "\n",
      "Epoch 00030: val_loss did not improve from 0.07677\n",
      "Epoch 31/60\n",
      "7314/7314 [==============================] - 6s 773us/step - loss: 0.0777 - acc: 0.9779 - val_loss: 0.0767 - val_acc: 0.9775\n",
      "\n",
      "Epoch 00031: val_loss improved from 0.07677 to 0.07670, saving model to weights.best.eda.hdf5\n",
      "Epoch 32/60\n",
      "7314/7314 [==============================] - 6s 777us/step - loss: 0.0775 - acc: 0.9778 - val_loss: 0.0762 - val_acc: 0.9776\n",
      "\n",
      "Epoch 00032: val_loss improved from 0.07670 to 0.07618, saving model to weights.best.eda.hdf5\n",
      "Epoch 33/60\n",
      "7314/7314 [==============================] - 6s 767us/step - loss: 0.0770 - acc: 0.9779 - val_loss: 0.0766 - val_acc: 0.9777\n",
      "\n",
      "Epoch 00033: val_loss did not improve from 0.07618\n",
      "Epoch 34/60\n",
      "7314/7314 [==============================] - 6s 780us/step - loss: 0.0766 - acc: 0.9780 - val_loss: 0.0761 - val_acc: 0.9777\n",
      "\n",
      "Epoch 00034: val_loss improved from 0.07618 to 0.07606, saving model to weights.best.eda.hdf5\n",
      "Epoch 35/60\n",
      "7314/7314 [==============================] - 6s 771us/step - loss: 0.0763 - acc: 0.9782 - val_loss: 0.0756 - val_acc: 0.9778\n",
      "\n",
      "Epoch 00035: val_loss improved from 0.07606 to 0.07560, saving model to weights.best.eda.hdf5\n",
      "Epoch 36/60\n",
      "7314/7314 [==============================] - 6s 762us/step - loss: 0.0761 - acc: 0.9780 - val_loss: 0.0760 - val_acc: 0.9779\n",
      "\n",
      "Epoch 00036: val_loss did not improve from 0.07560\n",
      "Epoch 37/60\n",
      "7314/7314 [==============================] - 6s 769us/step - loss: 0.0757 - acc: 0.9781 - val_loss: 0.0754 - val_acc: 0.9779\n",
      "\n",
      "Epoch 00037: val_loss improved from 0.07560 to 0.07541, saving model to weights.best.eda.hdf5\n",
      "Epoch 38/60\n"
     ]
    },
    {
     "name": "stdout",
     "output_type": "stream",
     "text": [
      "7314/7314 [==============================] - 6s 758us/step - loss: 0.0755 - acc: 0.9782 - val_loss: 0.0750 - val_acc: 0.9780\n",
      "\n",
      "Epoch 00038: val_loss improved from 0.07541 to 0.07504, saving model to weights.best.eda.hdf5\n",
      "Epoch 39/60\n",
      "7314/7314 [==============================] - 6s 765us/step - loss: 0.0752 - acc: 0.9782 - val_loss: 0.0751 - val_acc: 0.9779\n",
      "\n",
      "Epoch 00039: val_loss did not improve from 0.07504\n",
      "Epoch 40/60\n",
      "7314/7314 [==============================] - 6s 767us/step - loss: 0.0749 - acc: 0.9783 - val_loss: 0.0757 - val_acc: 0.9778\n",
      "\n",
      "Epoch 00040: val_loss did not improve from 0.07504\n",
      "Epoch 41/60\n",
      "7314/7314 [==============================] - 6s 769us/step - loss: 0.0747 - acc: 0.9783 - val_loss: 0.0751 - val_acc: 0.9779\n",
      "\n",
      "Epoch 00041: val_loss did not improve from 0.07504\n",
      "Epoch 42/60\n",
      "7314/7314 [==============================] - 6s 770us/step - loss: 0.0745 - acc: 0.9783 - val_loss: 0.0751 - val_acc: 0.9779\n",
      "\n",
      "Epoch 00042: val_loss did not improve from 0.07504\n",
      "Epoch 43/60\n",
      "7314/7314 [==============================] - 6s 816us/step - loss: 0.0741 - acc: 0.9784 - val_loss: 0.0751 - val_acc: 0.9781\n",
      "\n",
      "Epoch 00043: val_loss did not improve from 0.07504\n",
      "Epoch 44/60\n",
      "7314/7314 [==============================] - 6s 767us/step - loss: 0.0737 - acc: 0.9784 - val_loss: 0.0751 - val_acc: 0.9779\n",
      "\n",
      "Epoch 00044: val_loss did not improve from 0.07504\n",
      "Epoch 45/60\n",
      "7314/7314 [==============================] - 6s 771us/step - loss: 0.0736 - acc: 0.9784 - val_loss: 0.0750 - val_acc: 0.9780\n",
      "\n",
      "Epoch 00045: val_loss improved from 0.07504 to 0.07495, saving model to weights.best.eda.hdf5\n",
      "Epoch 46/60\n",
      "7314/7314 [==============================] - 6s 764us/step - loss: 0.0732 - acc: 0.9785 - val_loss: 0.0748 - val_acc: 0.9781\n",
      "\n",
      "Epoch 00046: val_loss improved from 0.07495 to 0.07482, saving model to weights.best.eda.hdf5\n",
      "Epoch 47/60\n",
      "7314/7314 [==============================] - 6s 765us/step - loss: 0.0733 - acc: 0.9785 - val_loss: 0.0745 - val_acc: 0.9782\n",
      "\n",
      "Epoch 00047: val_loss improved from 0.07482 to 0.07450, saving model to weights.best.eda.hdf5\n",
      "Epoch 48/60\n",
      "7314/7314 [==============================] - 6s 807us/step - loss: 0.0731 - acc: 0.9785 - val_loss: 0.0752 - val_acc: 0.9781\n",
      "\n",
      "Epoch 00048: val_loss did not improve from 0.07450\n",
      "Epoch 49/60\n",
      "7314/7314 [==============================] - 6s 807us/step - loss: 0.0728 - acc: 0.9786 - val_loss: 0.0748 - val_acc: 0.9780\n",
      "\n",
      "Epoch 00049: val_loss did not improve from 0.07450\n",
      "Epoch 50/60\n",
      "7314/7314 [==============================] - 6s 768us/step - loss: 0.0727 - acc: 0.9786 - val_loss: 0.0747 - val_acc: 0.9780\n",
      "\n",
      "Epoch 00050: val_loss did not improve from 0.07450\n",
      "Epoch 51/60\n",
      "7314/7314 [==============================] - 6s 759us/step - loss: 0.0725 - acc: 0.9786 - val_loss: 0.0753 - val_acc: 0.9781\n",
      "\n",
      "Epoch 00051: val_loss did not improve from 0.07450\n",
      "Epoch 52/60\n",
      "7314/7314 [==============================] - 6s 765us/step - loss: 0.0719 - acc: 0.9787 - val_loss: 0.0748 - val_acc: 0.9781\n",
      "\n",
      "Epoch 00052: val_loss did not improve from 0.07450\n",
      "Epoch 53/60\n",
      "7314/7314 [==============================] - 6s 781us/step - loss: 0.0718 - acc: 0.9787 - val_loss: 0.0748 - val_acc: 0.9781\n",
      "\n",
      "Epoch 00053: val_loss did not improve from 0.07450\n",
      "Epoch 54/60\n",
      "7314/7314 [==============================] - 6s 759us/step - loss: 0.0719 - acc: 0.9787 - val_loss: 0.0747 - val_acc: 0.9782\n",
      "\n",
      "Epoch 00054: val_loss did not improve from 0.07450\n",
      "Epoch 55/60\n",
      "7314/7314 [==============================] - 6s 804us/step - loss: 0.0715 - acc: 0.9787 - val_loss: 0.0746 - val_acc: 0.9782\n",
      "\n",
      "Epoch 00055: val_loss did not improve from 0.07450\n",
      "Epoch 56/60\n",
      "7314/7314 [==============================] - 6s 810us/step - loss: 0.0714 - acc: 0.9788 - val_loss: 0.0749 - val_acc: 0.9781\n",
      "\n",
      "Epoch 00056: val_loss did not improve from 0.07450\n",
      "Epoch 57/60\n",
      "7314/7314 [==============================] - 6s 796us/step - loss: 0.0711 - acc: 0.9788 - val_loss: 0.0745 - val_acc: 0.9781\n",
      "\n",
      "Epoch 00057: val_loss did not improve from 0.07450\n",
      "Epoch 58/60\n",
      "7314/7314 [==============================] - 6s 765us/step - loss: 0.0712 - acc: 0.9788 - val_loss: 0.0753 - val_acc: 0.9780\n",
      "\n",
      "Epoch 00058: val_loss did not improve from 0.07450\n",
      "Epoch 59/60\n",
      "7314/7314 [==============================] - 5s 750us/step - loss: 0.0708 - acc: 0.9789 - val_loss: 0.0746 - val_acc: 0.9782\n",
      "\n",
      "Epoch 00059: val_loss did not improve from 0.07450\n",
      "Epoch 60/60\n",
      "7314/7314 [==============================] - 6s 782us/step - loss: 0.0706 - acc: 0.9789 - val_loss: 0.0749 - val_acc: 0.9781\n",
      "\n",
      "Epoch 00060: val_loss did not improve from 0.07450\n"
     ]
    },
    {
     "data": {
      "text/plain": [
       "<keras.callbacks.History at 0x7fa0302d3e10>"
      ]
     },
     "execution_count": 103,
     "metadata": {},
     "output_type": "execute_result"
    }
   ],
   "source": [
    "model.fit(Xtrain, ytrain, validation_data=(Xvalid, yvalid), epochs=60, batch_size=40, callbacks=[checkpointer], verbose=1)"
   ]
  },
  {
   "cell_type": "code",
   "execution_count": 104,
   "metadata": {},
   "outputs": [],
   "source": [
    "train_pred = model.predict(Xtrain).round()"
   ]
  },
  {
   "cell_type": "code",
   "execution_count": 105,
   "metadata": {},
   "outputs": [
    {
     "name": "stderr",
     "output_type": "stream",
     "text": [
      "/usr/local/lib/python3.5/dist-packages/sklearn/metrics/classification.py:1135: UndefinedMetricWarning: F-score is ill-defined and being set to 0.0 in samples with no predicted labels.\n",
      "  'precision', 'predicted', average, warn_for)\n"
     ]
    },
    {
     "data": {
      "text/plain": [
       "0.4117560946473266"
      ]
     },
     "execution_count": 105,
     "metadata": {},
     "output_type": "execute_result"
    }
   ],
   "source": [
    "f1_score(ytrain, train_pred, average='samples')"
   ]
  },
  {
   "cell_type": "code",
   "execution_count": 106,
   "metadata": {},
   "outputs": [],
   "source": [
    "\n",
    "valid_pred = model.predict(Xvalid).round()"
   ]
  },
  {
   "cell_type": "code",
   "execution_count": 108,
   "metadata": {},
   "outputs": [
    {
     "name": "stderr",
     "output_type": "stream",
     "text": [
      "/usr/local/lib/python3.5/dist-packages/sklearn/metrics/classification.py:1135: UndefinedMetricWarning: F-score is ill-defined and being set to 0.0 in samples with no predicted labels.\n",
      "  'precision', 'predicted', average, warn_for)\n"
     ]
    },
    {
     "data": {
      "text/plain": [
       "0.3596987684070877"
      ]
     },
     "execution_count": 108,
     "metadata": {},
     "output_type": "execute_result"
    }
   ],
   "source": [
    "f1_score(yvalid, valid_pred, average='samples')"
   ]
  },
  {
   "cell_type": "code",
   "execution_count": null,
   "metadata": {},
   "outputs": [],
   "source": []
  }
 ],
 "metadata": {
  "colab": {
   "collapsed_sections": [],
   "default_view": {},
   "name": "Fashion.ipynb",
   "provenance": [],
   "version": "0.3.2",
   "views": {}
  },
  "kernelspec": {
   "display_name": "Python 3",
   "language": "python",
   "name": "python3"
  },
  "language_info": {
   "codemirror_mode": {
    "name": "ipython",
    "version": 3
   },
   "file_extension": ".py",
   "mimetype": "text/x-python",
   "name": "python",
   "nbconvert_exporter": "python",
   "pygments_lexer": "ipython3",
   "version": "3.5.2"
  }
 },
 "nbformat": 4,
 "nbformat_minor": 1
}
